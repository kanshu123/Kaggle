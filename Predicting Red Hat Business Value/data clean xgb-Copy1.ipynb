{
 "cells": [
  {
   "cell_type": "code",
   "execution_count": 1,
   "metadata": {
    "collapsed": true
   },
   "outputs": [],
   "source": [
    "import pandas as pd\n",
    "import numpy as np"
   ]
  },
  {
   "cell_type": "code",
   "execution_count": 2,
   "metadata": {
    "collapsed": true
   },
   "outputs": [],
   "source": [
    "act_test = pd.read_csv('act_test.csv')\n",
    "act_train = pd.read_csv('act_train.csv')\n",
    "people = pd.read_csv('people.csv')\n",
    "submission_ids = act_test['activity_id']"
   ]
  },
  {
   "cell_type": "code",
   "execution_count": 3,
   "metadata": {
    "collapsed": false
   },
   "outputs": [
    {
     "data": {
      "text/plain": [
       "(2197291, 15)"
      ]
     },
     "execution_count": 3,
     "metadata": {},
     "output_type": "execute_result"
    }
   ],
   "source": [
    "act_train.shape"
   ]
  },
  {
   "cell_type": "code",
   "execution_count": 4,
   "metadata": {
    "collapsed": true
   },
   "outputs": [],
   "source": [
    "def prep_act(data,train = True):\n",
    "    data = data.drop(['date','activity_id'],axis = 1)\n",
    "    if (train):\n",
    "        data = data.drop(['outcome'],axis = 1)\n",
    "    data['people_id'] = data['people_id'].apply(lambda x: x.split('_')[1])\n",
    "    data['people_id'] = pd.to_numeric(data['people_id']).astype(int)\n",
    "    col = list(data.columns)\n",
    "    for item in col[1:]:\n",
    "        data[item] = data[item].fillna('type 0')\n",
    "        data[item] = data[item].apply(lambda x: x.split(' ')[1])\n",
    "        data[item] = pd.to_numeric(data[item]).astype(int)\n",
    "    return data\n",
    "def prep_people(data):\n",
    "    data = data.drop(['date'],axis = 1)\n",
    "    data['people_id'] = data['people_id'].apply(lambda x: x.split('_')[1])\n",
    "    data['people_id'] = pd. to_numeric(data['people_id']).astype(int)\n",
    "    number = list(data.columns)[1:11]\n",
    "    boolvalue = list(data.columns)[11:]\n",
    "    for col in number:\n",
    "        data[col] = data[col].fillna('type 0')\n",
    "        data[col] = data[col].apply(lambda x: x.split(' ')[1])\n",
    "        data[col] = pd.to_numeric(data[col]).astype(int)\n",
    "    for col in boolvalue:\n",
    "        data[col] = pd.to_numeric(data[col]).astype(int)\n",
    "    return data  "
   ]
  },
  {
   "cell_type": "code",
   "execution_count": 5,
   "metadata": {
    "collapsed": false
   },
   "outputs": [],
   "source": [
    "act_t = prep_act(act_train)\n",
    "peop = prep_people(people)\n",
    "act_tst = prep_act(act_test,train = False)"
   ]
  },
  {
   "cell_type": "code",
   "execution_count": 6,
   "metadata": {
    "collapsed": false
   },
   "outputs": [
    {
     "data": {
      "text/plain": [
       "(2197291, 12)"
      ]
     },
     "execution_count": 6,
     "metadata": {},
     "output_type": "execute_result"
    }
   ],
   "source": [
    "act_t.shape"
   ]
  },
  {
   "cell_type": "code",
   "execution_count": 7,
   "metadata": {
    "collapsed": false
   },
   "outputs": [],
   "source": [
    "train = act_t.merge(peop, how = 'left', on ='people_id')\n",
    "target = act_train['outcome']\n",
    "test = act_tst.merge(peop,how = 'left', on = 'people_id')\n",
    "#train.to_csv('train.csv',index = False)\n",
    "#target.to_csv('target.csv',index = False)\n",
    "#test.to_csv('test.csv', index = False)"
   ]
  },
  {
   "cell_type": "code",
   "execution_count": 8,
   "metadata": {
    "collapsed": false
   },
   "outputs": [
    {
     "data": {
      "text/plain": [
       "0    0\n",
       "1    0\n",
       "2    0\n",
       "3    0\n",
       "4    0\n",
       "Name: outcome, dtype: int64"
      ]
     },
     "execution_count": 8,
     "metadata": {},
     "output_type": "execute_result"
    }
   ],
   "source": [
    "#submission_ids.to_csv('sub_id.csv', index = False)\n",
    "target.head()"
   ]
  },
  {
   "cell_type": "code",
   "execution_count": 13,
   "metadata": {
    "collapsed": false
   },
   "outputs": [
    {
     "data": {
      "text/plain": [
       "(2197291, 51)"
      ]
     },
     "execution_count": 13,
     "metadata": {},
     "output_type": "execute_result"
    }
   ],
   "source": [
    "train.shape"
   ]
  },
  {
   "cell_type": "code",
   "execution_count": 15,
   "metadata": {
    "collapsed": true
   },
   "outputs": [],
   "source": [
    "train_k = train.as_matrix()\n",
    "test_k = test.as_matrix()\n",
    "target_k = target.as_matrix()"
   ]
  },
  {
   "cell_type": "code",
   "execution_count": 12,
   "metadata": {
    "collapsed": false
   },
   "outputs": [],
   "source": [
    "from keras.models import Sequential\n",
    "from keras.layers import Dense\n",
    "from keras.layers import advanced_activations\n",
    "seed = 10\n",
    "np.random.seed(seed)"
   ]
  },
  {
   "cell_type": "code",
   "execution_count": null,
   "metadata": {
    "collapsed": true
   },
   "outputs": [],
   "source": [
    "model = Sequential()\n",
    "model.add(Dense(40, input_dim = 51,init ='uniform',activation = 'relu'))\n",
    "model.add(Dropout(0.2))\n",
    "#model.add(advanced_activations.LeakyReLU(alpha=0.1))\n",
    "#model.add(Dense(30,init = 'uniform',activation = 'relu'))\n",
    "#model.add(Dense(20,init = 'uniform',activation = 'relu'))\n",
    "#model.add(Dense(10,init = 'uniform',activation = 'relu'))\n",
    "#model.add(Dense(10,init = 'uniform',activation = 'relu'))\n",
    "#model.add(Dense(10,init = 'uniform',activation = 'relu'))\n",
    "#model.add(Dense(10,init = 'uniform',activation = 'relu'))\n",
    "model.add(Dense(1,input_dim = 40, init = 'uniform', activation = 'sigmoid'))\n",
    "model.compile(loss ='binary_crossentropy',optimizer = 'sgd',metrics = ['accuracy'])"
   ]
  },
  {
   "cell_type": "code",
   "execution_count": 16,
   "metadata": {
    "collapsed": true
   },
   "outputs": [
    {
     "name": "stdout",
     "output_type": "stream",
     "text": [
      "Train on 1977561 samples, validate on 219730 samples\n",
      "Epoch 1/50\n",
      "9s - loss: 8.9896 - acc: 0.4361 - val_loss: 7.7397 - val_acc: 0.5145\n",
      "Epoch 2/50\n",
      "9s - loss: 8.9897 - acc: 0.4361 - val_loss: 7.7397 - val_acc: 0.5145\n",
      "Epoch 3/50\n",
      "9s - loss: 8.9897 - acc: 0.4361 - val_loss: 7.7397 - val_acc: 0.5145\n",
      "Epoch 4/50\n",
      "10s - loss: 8.9897 - acc: 0.4361 - val_loss: 7.7397 - val_acc: 0.5145\n",
      "Epoch 5/50\n",
      "10s - loss: 8.9897 - acc: 0.4361 - val_loss: 7.7397 - val_acc: 0.5145\n",
      "Epoch 6/50\n",
      "9s - loss: 8.9897 - acc: 0.4361 - val_loss: 7.7397 - val_acc: 0.5145\n",
      "Epoch 7/50\n",
      "9s - loss: 8.9897 - acc: 0.4361 - val_loss: 7.7397 - val_acc: 0.5145\n",
      "Epoch 8/50\n",
      "9s - loss: 8.9897 - acc: 0.4361 - val_loss: 7.7397 - val_acc: 0.5145\n",
      "Epoch 9/50\n",
      "9s - loss: 8.9897 - acc: 0.4361 - val_loss: 7.7397 - val_acc: 0.5145\n",
      "Epoch 10/50\n",
      "8s - loss: 8.9897 - acc: 0.4361 - val_loss: 7.7397 - val_acc: 0.5145\n",
      "Epoch 11/50\n",
      "8s - loss: 8.9897 - acc: 0.4361 - val_loss: 7.7397 - val_acc: 0.5145\n",
      "Epoch 12/50\n",
      "9s - loss: 8.9897 - acc: 0.4361 - val_loss: 7.7397 - val_acc: 0.5145\n",
      "Epoch 13/50\n",
      "12s - loss: 8.9897 - acc: 0.4361 - val_loss: 7.7397 - val_acc: 0.5145\n",
      "Epoch 14/50\n",
      "10s - loss: 8.9897 - acc: 0.4361 - val_loss: 7.7397 - val_acc: 0.5145\n",
      "Epoch 15/50\n",
      "9s - loss: 8.9897 - acc: 0.4361 - val_loss: 7.7397 - val_acc: 0.5145\n",
      "Epoch 16/50\n",
      "9s - loss: 8.9897 - acc: 0.4361 - val_loss: 7.7397 - val_acc: 0.5145\n",
      "Epoch 17/50\n",
      "9s - loss: 8.9897 - acc: 0.4361 - val_loss: 7.7397 - val_acc: 0.5145\n",
      "Epoch 18/50\n",
      "9s - loss: 8.9897 - acc: 0.4361 - val_loss: 7.7397 - val_acc: 0.5145\n",
      "Epoch 19/50\n",
      "9s - loss: 8.9897 - acc: 0.4361 - val_loss: 7.7397 - val_acc: 0.5145\n",
      "Epoch 20/50\n",
      "9s - loss: 8.9897 - acc: 0.4361 - val_loss: 7.7397 - val_acc: 0.5145\n",
      "Epoch 21/50\n",
      "8s - loss: 8.9897 - acc: 0.4361 - val_loss: 7.7397 - val_acc: 0.5145\n",
      "Epoch 22/50\n",
      "9s - loss: 8.9897 - acc: 0.4361 - val_loss: 7.7397 - val_acc: 0.5145\n",
      "Epoch 23/50\n",
      "10s - loss: 8.9897 - acc: 0.4361 - val_loss: 7.7397 - val_acc: 0.5145\n",
      "Epoch 24/50\n",
      "9s - loss: 8.9897 - acc: 0.4361 - val_loss: 7.7397 - val_acc: 0.5145\n",
      "Epoch 25/50\n",
      "9s - loss: 8.9897 - acc: 0.4361 - val_loss: 7.7397 - val_acc: 0.5145\n",
      "Epoch 26/50\n",
      "9s - loss: 8.9897 - acc: 0.4361 - val_loss: 7.7397 - val_acc: 0.5145\n",
      "Epoch 27/50\n",
      "9s - loss: 8.9897 - acc: 0.4361 - val_loss: 7.7397 - val_acc: 0.5145\n",
      "Epoch 28/50\n",
      "9s - loss: 8.9897 - acc: 0.4361 - val_loss: 7.7397 - val_acc: 0.5145\n",
      "Epoch 29/50\n",
      "9s - loss: 8.9897 - acc: 0.4361 - val_loss: 7.7397 - val_acc: 0.5145\n",
      "Epoch 30/50\n",
      "10s - loss: 8.9897 - acc: 0.4361 - val_loss: 7.7397 - val_acc: 0.5145\n",
      "Epoch 31/50\n",
      "9s - loss: 8.9897 - acc: 0.4361 - val_loss: 7.7397 - val_acc: 0.5145\n",
      "Epoch 32/50\n",
      "9s - loss: 8.9897 - acc: 0.4361 - val_loss: 7.7397 - val_acc: 0.5145\n",
      "Epoch 33/50\n",
      "9s - loss: 8.9897 - acc: 0.4361 - val_loss: 7.7397 - val_acc: 0.5145\n",
      "Epoch 34/50\n",
      "8s - loss: 8.9897 - acc: 0.4361 - val_loss: 7.7397 - val_acc: 0.5145\n",
      "Epoch 35/50\n",
      "10s - loss: 8.9897 - acc: 0.4361 - val_loss: 7.7397 - val_acc: 0.5145\n",
      "Epoch 36/50\n",
      "10s - loss: 8.9897 - acc: 0.4361 - val_loss: 7.7397 - val_acc: 0.5145\n",
      "Epoch 37/50\n",
      "10s - loss: 8.9897 - acc: 0.4361 - val_loss: 7.7397 - val_acc: 0.5145\n",
      "Epoch 38/50\n",
      "9s - loss: 8.9897 - acc: 0.4361 - val_loss: 7.7397 - val_acc: 0.5145\n",
      "Epoch 39/50\n",
      "9s - loss: 8.9897 - acc: 0.4361 - val_loss: 7.7397 - val_acc: 0.5145\n",
      "Epoch 40/50\n",
      "9s - loss: 8.9897 - acc: 0.4361 - val_loss: 7.7397 - val_acc: 0.5145\n",
      "Epoch 41/50\n",
      "9s - loss: 8.9897 - acc: 0.4361 - val_loss: 7.7397 - val_acc: 0.5145\n",
      "Epoch 42/50\n",
      "9s - loss: 8.9897 - acc: 0.4361 - val_loss: 7.7397 - val_acc: 0.5145\n",
      "Epoch 43/50\n",
      "10s - loss: 8.9897 - acc: 0.4361 - val_loss: 7.7397 - val_acc: 0.5145\n",
      "Epoch 44/50\n",
      "12s - loss: 8.9897 - acc: 0.4361 - val_loss: 7.7397 - val_acc: 0.5145\n",
      "Epoch 45/50\n",
      "9s - loss: 8.9897 - acc: 0.4361 - val_loss: 7.7397 - val_acc: 0.5145\n",
      "Epoch 46/50\n",
      "10s - loss: 8.9897 - acc: 0.4361 - val_loss: 7.7397 - val_acc: 0.5145\n",
      "Epoch 47/50\n",
      "12s - loss: 8.9897 - acc: 0.4361 - val_loss: 7.7397 - val_acc: 0.5145\n",
      "Epoch 48/50\n",
      "9s - loss: 8.9897 - acc: 0.4361 - val_loss: 7.7397 - val_acc: 0.5145\n",
      "Epoch 49/50\n",
      "9s - loss: 8.9897 - acc: 0.4361 - val_loss: 7.7397 - val_acc: 0.5145\n",
      "Epoch 50/50\n",
      "9s - loss: 8.9897 - acc: 0.4361 - val_loss: 7.7397 - val_acc: 0.5145\n"
     ]
    },
    {
     "data": {
      "text/plain": [
       "<keras.callbacks.History at 0x1224de7b8>"
      ]
     },
     "execution_count": 16,
     "metadata": {},
     "output_type": "execute_result"
    }
   ],
   "source": [
    "model.fit(train_k,target_k,nb_epoch = 50,batch_size = 100,verbose = 2, shuffle = False,validation_split = 0.1)"
   ]
  },
  {
   "cell_type": "code",
   "execution_count": 18,
   "metadata": {
    "collapsed": false
   },
   "outputs": [
    {
     "data": {
      "text/plain": [
       "array([[ 1.],\n",
       "       [ 1.],\n",
       "       [ 1.],\n",
       "       [ 1.],\n",
       "       [ 1.],\n",
       "       [ 1.],\n",
       "       [ 1.],\n",
       "       [ 1.],\n",
       "       [ 1.],\n",
       "       [ 1.],\n",
       "       [ 1.],\n",
       "       [ 1.],\n",
       "       [ 1.],\n",
       "       [ 1.],\n",
       "       [ 1.],\n",
       "       [ 1.],\n",
       "       [ 1.],\n",
       "       [ 1.],\n",
       "       [ 1.],\n",
       "       [ 1.],\n",
       "       [ 1.],\n",
       "       [ 1.],\n",
       "       [ 1.],\n",
       "       [ 1.],\n",
       "       [ 1.],\n",
       "       [ 1.],\n",
       "       [ 1.],\n",
       "       [ 1.],\n",
       "       [ 1.],\n",
       "       [ 1.],\n",
       "       [ 1.],\n",
       "       [ 1.],\n",
       "       [ 1.],\n",
       "       [ 1.],\n",
       "       [ 1.],\n",
       "       [ 1.],\n",
       "       [ 1.],\n",
       "       [ 1.],\n",
       "       [ 1.],\n",
       "       [ 1.],\n",
       "       [ 1.],\n",
       "       [ 1.],\n",
       "       [ 1.],\n",
       "       [ 1.],\n",
       "       [ 1.],\n",
       "       [ 1.],\n",
       "       [ 1.],\n",
       "       [ 1.],\n",
       "       [ 1.],\n",
       "       [ 1.],\n",
       "       [ 1.],\n",
       "       [ 1.],\n",
       "       [ 1.],\n",
       "       [ 1.],\n",
       "       [ 1.],\n",
       "       [ 1.],\n",
       "       [ 1.],\n",
       "       [ 1.],\n",
       "       [ 1.],\n",
       "       [ 1.],\n",
       "       [ 1.],\n",
       "       [ 1.],\n",
       "       [ 1.],\n",
       "       [ 1.],\n",
       "       [ 1.],\n",
       "       [ 1.],\n",
       "       [ 1.],\n",
       "       [ 1.],\n",
       "       [ 1.],\n",
       "       [ 1.],\n",
       "       [ 1.],\n",
       "       [ 1.],\n",
       "       [ 1.],\n",
       "       [ 1.],\n",
       "       [ 1.],\n",
       "       [ 1.],\n",
       "       [ 1.],\n",
       "       [ 1.],\n",
       "       [ 1.],\n",
       "       [ 1.],\n",
       "       [ 1.],\n",
       "       [ 1.],\n",
       "       [ 1.],\n",
       "       [ 1.],\n",
       "       [ 1.],\n",
       "       [ 1.],\n",
       "       [ 1.],\n",
       "       [ 1.],\n",
       "       [ 1.],\n",
       "       [ 1.],\n",
       "       [ 1.],\n",
       "       [ 1.],\n",
       "       [ 1.],\n",
       "       [ 1.],\n",
       "       [ 1.],\n",
       "       [ 1.],\n",
       "       [ 1.],\n",
       "       [ 1.],\n",
       "       [ 1.],\n",
       "       [ 1.]], dtype=float32)"
      ]
     },
     "execution_count": 18,
     "metadata": {},
     "output_type": "execute_result"
    }
   ],
   "source": [
    "proba = model.predict_proba(test_k, batch_size=100, verbose=2)\n",
    "proba[0:100]"
   ]
  },
  {
   "cell_type": "code",
   "execution_count": 7,
   "metadata": {
    "collapsed": true
   },
   "outputs": [],
   "source": [
    "from sklearn.cross_validation import train_test_split\n",
    "X_train,X_test,y_train,y_test = train_test_split(train,target,test_size = 0.2,random_state = 1)\n",
    "from sklearn.metrics import accuracy_score,roc_auc_score\n",
    "import xgboost as xgb\n",
    "from xgboost.sklearn import XGBClassifier\n",
    "import matplotlib.pylab as plt\n",
    "% matplotlib inline"
   ]
  },
  {
   "cell_type": "code",
   "execution_count": 32,
   "metadata": {
    "collapsed": false
   },
   "outputs": [],
   "source": [
    "xgb1 = XGBClassifier()\n",
    "xgb1 = xgb1.fit(X_train,y_train,eval_metric = 'auc')"
   ]
  },
  {
   "cell_type": "code",
   "execution_count": 33,
   "metadata": {
    "collapsed": true
   },
   "outputs": [],
   "source": [
    "proba = xgb1.predict_proba(X_test)"
   ]
  },
  {
   "cell_type": "code",
   "execution_count": 35,
   "metadata": {
    "collapsed": false
   },
   "outputs": [
    {
     "data": {
      "text/plain": [
       "0.93393957239397185"
      ]
     },
     "execution_count": 35,
     "metadata": {},
     "output_type": "execute_result"
    }
   ],
   "source": [
    "roc_auc_score(y_test,proba[:,1])"
   ]
  },
  {
   "cell_type": "code",
   "execution_count": 38,
   "metadata": {
    "collapsed": false
   },
   "outputs": [
    {
     "data": {
      "text/plain": [
       "0.93391675172784916"
      ]
     },
     "execution_count": 38,
     "metadata": {},
     "output_type": "execute_result"
    }
   ],
   "source": [
    "proba_train = xgb1.predict_proba(X_train)\n",
    "roc_auc_score(y_train,proba_train[:,1])"
   ]
  },
  {
   "cell_type": "code",
   "execution_count": 36,
   "metadata": {
    "collapsed": true
   },
   "outputs": [],
   "source": [
    "test_proba = xgb1.predict_proba(test)"
   ]
  },
  {
   "cell_type": "code",
   "execution_count": 39,
   "metadata": {
    "collapsed": true
   },
   "outputs": [],
   "source": [
    "xgb1_submission = pd.DataFrame({'activity_id':submission_ids, 'outcome':test_proba[:,1]})\n",
    "xgb1_submission.to_csv('xgb1_submission.csv',index = False)"
   ]
  },
  {
   "cell_type": "code",
   "execution_count": 10,
   "metadata": {
    "collapsed": false
   },
   "outputs": [],
   "source": [
    "xgb2 = XGBClassifier(learning_rate = 0.1,n_estimators=200,max_depth=5,min_child_weight= 1,gamma = 0,subsample = 0.8,colsample_bytree = 0.8,objective = 'binary:logistic',seed= 27)\n",
    "xgb2 = xgb2.fit(train,target,eval_metric = 'auc')"
   ]
  },
  {
   "cell_type": "code",
   "execution_count": 11,
   "metadata": {
    "collapsed": false
   },
   "outputs": [
    {
     "data": {
      "text/plain": [
       "0.96095449548153877"
      ]
     },
     "execution_count": 11,
     "metadata": {},
     "output_type": "execute_result"
    }
   ],
   "source": [
    "xgb2_proba = xgb2.predict_proba(X_test)\n",
    "roc_auc_score(y_test,xgb2_proba[:,1])"
   ]
  },
  {
   "cell_type": "code",
   "execution_count": 12,
   "metadata": {
    "collapsed": true
   },
   "outputs": [],
   "source": [
    "xgb2_testproba = xgb2.predict_proba(test)\n",
    "xgb2_submission = pd.DataFrame({'activity_id':submission_ids, 'outcome':xgb2_testproba[:,1]})\n"
   ]
  },
  {
   "cell_type": "code",
   "execution_count": 13,
   "metadata": {
    "collapsed": true
   },
   "outputs": [],
   "source": [
    "xgb2_submission.to_csv('xgb2_submission.csv',index = False)"
   ]
  },
  {
   "cell_type": "code",
   "execution_count": 9,
   "metadata": {
    "collapsed": false
   },
   "outputs": [],
   "source": [
    "from sklearn.grid_search import GridSearchCV\n",
    "xgb4_param = {'gamma':[i/10.0 for i in range(0,5)]}\n",
    "gsearch2 = GridSearchCV(estimator = XGBClassifier(learning_rate = 0.1,n_estimators=100,max_depth=9,min_child_weight= 3,gamma = 0,subsample = 0.8,colsample_bytree = 0.8,objective = 'binary:logistic',seed= 27),param_grid = xgb4_param,scoring = 'roc_auc',n_jobs=4,iid = False,cv=5)"
   ]
  },
  {
   "cell_type": "code",
   "execution_count": 10,
   "metadata": {
    "collapsed": false
   },
   "outputs": [
    {
     "data": {
      "text/plain": [
       "GridSearchCV(cv=5, error_score='raise',\n",
       "       estimator=XGBClassifier(base_score=0.5, colsample_bylevel=1, colsample_bytree=0.8,\n",
       "       gamma=0, learning_rate=0.1, max_delta_step=0, max_depth=9,\n",
       "       min_child_weight=3, missing=None, n_estimators=100, nthread=-1,\n",
       "       objective='binary:logistic', reg_alpha=0, reg_lambda=1,\n",
       "       scale_pos_weight=1, seed=27, silent=True, subsample=0.8),\n",
       "       fit_params={}, iid=False, n_jobs=4,\n",
       "       param_grid={'gamma': [0.0, 0.1, 0.2, 0.3, 0.4]},\n",
       "       pre_dispatch='2*n_jobs', refit=True, scoring='roc_auc', verbose=0)"
      ]
     },
     "execution_count": 10,
     "metadata": {},
     "output_type": "execute_result"
    }
   ],
   "source": [
    "gsearch2.fit(train,target)"
   ]
  },
  {
   "cell_type": "code",
   "execution_count": 11,
   "metadata": {
    "collapsed": false
   },
   "outputs": [
    {
     "data": {
      "text/plain": [
       "([mean: 0.92657, std: 0.02599, params: {'gamma': 0.0},\n",
       "  mean: 0.92710, std: 0.02539, params: {'gamma': 0.1},\n",
       "  mean: 0.92612, std: 0.02607, params: {'gamma': 0.2},\n",
       "  mean: 0.92856, std: 0.02383, params: {'gamma': 0.3},\n",
       "  mean: 0.92606, std: 0.02668, params: {'gamma': 0.4}],\n",
       " {'gamma': 0.3},\n",
       " 0.92855723278862778)"
      ]
     },
     "execution_count": 11,
     "metadata": {},
     "output_type": "execute_result"
    }
   ],
   "source": [
    "gsearch2.grid_scores_, gsearch2.best_params_, gsearch2.best_score_"
   ]
  },
  {
   "cell_type": "code",
   "execution_count": 22,
   "metadata": {
    "collapsed": false
   },
   "outputs": [
    {
     "data": {
      "text/plain": [
       "0.99027631180739495"
      ]
     },
     "execution_count": 22,
     "metadata": {},
     "output_type": "execute_result"
    }
   ],
   "source": [
    "xgb4 = XGBClassifier(learning_rate = 0.1,n_estimators=200,max_depth=9,min_child_weight= 3,gamma = 0.3,subsample = 0.8,colsample_bytree = 0.8,objective = 'binary:logistic',seed= 27)\n",
    "xgb4=xgb4.fit(train,target,eval_metric = 'auc')\n",
    "xgb4_proba = xgb4.predict_proba(X_test)\n",
    "roc_auc_score(y_test,xgb4_proba[:,1])"
   ]
  },
  {
   "cell_type": "code",
   "execution_count": 23,
   "metadata": {
    "collapsed": false
   },
   "outputs": [
    {
     "ename": "NameError",
     "evalue": "name 'subimssion_ids' is not defined",
     "output_type": "error",
     "traceback": [
      "\u001b[0;31m---------------------------------------------------------------------------\u001b[0m",
      "\u001b[0;31mNameError\u001b[0m                                 Traceback (most recent call last)",
      "\u001b[0;32m<ipython-input-23-7173308ac478>\u001b[0m in \u001b[0;36m<module>\u001b[0;34m()\u001b[0m\n\u001b[1;32m      1\u001b[0m \u001b[0mxgb4_test\u001b[0m \u001b[0;34m=\u001b[0m \u001b[0mxgb4\u001b[0m\u001b[0;34m.\u001b[0m\u001b[0mpredict_proba\u001b[0m\u001b[0;34m(\u001b[0m\u001b[0mtest\u001b[0m\u001b[0;34m)\u001b[0m\u001b[0;34m\u001b[0m\u001b[0m\n\u001b[0;32m----> 2\u001b[0;31m \u001b[0mxgb4_submission\u001b[0m \u001b[0;34m=\u001b[0m \u001b[0mpd\u001b[0m\u001b[0;34m.\u001b[0m\u001b[0mDataFrame\u001b[0m\u001b[0;34m(\u001b[0m\u001b[0;34m{\u001b[0m\u001b[0;34m'activity_id'\u001b[0m\u001b[0;34m:\u001b[0m\u001b[0msubimssion_ids\u001b[0m\u001b[0;34m,\u001b[0m\u001b[0;34m'outcome'\u001b[0m\u001b[0;34m:\u001b[0m\u001b[0mxgb4_test\u001b[0m\u001b[0;34m[\u001b[0m\u001b[0;34m:\u001b[0m\u001b[0;34m,\u001b[0m\u001b[0;36m1\u001b[0m\u001b[0;34m]\u001b[0m\u001b[0;34m}\u001b[0m\u001b[0;34m)\u001b[0m\u001b[0;34m\u001b[0m\u001b[0m\n\u001b[0m\u001b[1;32m      3\u001b[0m \u001b[0mxgb4_submission\u001b[0m\u001b[0;34m.\u001b[0m\u001b[0mto_csv\u001b[0m\u001b[0;34m(\u001b[0m\u001b[0;34m'xgb4_submission.csv'\u001b[0m\u001b[0;34m,\u001b[0m\u001b[0mindex\u001b[0m \u001b[0;34m=\u001b[0m \u001b[0;32mFalse\u001b[0m\u001b[0;34m)\u001b[0m\u001b[0;34m\u001b[0m\u001b[0m\n",
      "\u001b[0;31mNameError\u001b[0m: name 'subimssion_ids' is not defined"
     ]
    }
   ],
   "source": [
    "xgb4_test = xgb4.predict_proba(test)\n"
   ]
  },
  {
   "cell_type": "code",
   "execution_count": 24,
   "metadata": {
    "collapsed": true
   },
   "outputs": [],
   "source": [
    "xgb4_submission = pd.DataFrame({'activity_id':submission_ids,'outcome':xgb4_test[:,1]})\n",
    "xgb4_submission.to_csv('xgb4_submission.csv',index = False)"
   ]
  },
  {
   "cell_type": "code",
   "execution_count": 12,
   "metadata": {
    "collapsed": true
   },
   "outputs": [
    {
     "data": {
      "text/plain": [
       "([mean: 0.92521, std: 0.02522, params: {'subsample': 0.6, 'colsample_bytree': 0.6},\n",
       "  mean: 0.93036, std: 0.02183, params: {'subsample': 0.7, 'colsample_bytree': 0.6},\n",
       "  mean: 0.93061, std: 0.02089, params: {'subsample': 0.8, 'colsample_bytree': 0.6},\n",
       "  mean: 0.92736, std: 0.02331, params: {'subsample': 0.9, 'colsample_bytree': 0.6},\n",
       "  mean: 0.92895, std: 0.02265, params: {'subsample': 0.6, 'colsample_bytree': 0.7},\n",
       "  mean: 0.92699, std: 0.02537, params: {'subsample': 0.7, 'colsample_bytree': 0.7},\n",
       "  mean: 0.92616, std: 0.02572, params: {'subsample': 0.8, 'colsample_bytree': 0.7},\n",
       "  mean: 0.92944, std: 0.02187, params: {'subsample': 0.9, 'colsample_bytree': 0.7},\n",
       "  mean: 0.92499, std: 0.02652, params: {'subsample': 0.6, 'colsample_bytree': 0.8},\n",
       "  mean: 0.92839, std: 0.02431, params: {'subsample': 0.7, 'colsample_bytree': 0.8},\n",
       "  mean: 0.92856, std: 0.02383, params: {'subsample': 0.8, 'colsample_bytree': 0.8},\n",
       "  mean: 0.92740, std: 0.02295, params: {'subsample': 0.9, 'colsample_bytree': 0.8},\n",
       "  mean: 0.92758, std: 0.02326, params: {'subsample': 0.6, 'colsample_bytree': 0.9},\n",
       "  mean: 0.92591, std: 0.02644, params: {'subsample': 0.7, 'colsample_bytree': 0.9},\n",
       "  mean: 0.93069, std: 0.02194, params: {'subsample': 0.8, 'colsample_bytree': 0.9},\n",
       "  mean: 0.92694, std: 0.02428, params: {'subsample': 0.9, 'colsample_bytree': 0.9}],\n",
       " {'colsample_bytree': 0.9, 'subsample': 0.8},\n",
       " 0.93068817454681907)"
      ]
     },
     "execution_count": 12,
     "metadata": {},
     "output_type": "execute_result"
    }
   ],
   "source": [
    "xgb5_param = {'subsample':[i/10.0 for i in range(6,10)],'colsample_bytree':[i/10.0 for i in range(6,10)]}\n",
    "gsearch3 = GridSearchCV(estimator = XGBClassifier(learning_rate = 0.1,n_estimators=100,max_depth=9,min_child_weight= 3,gamma = 0.3,subsample = 0.8,colsample_bytree = 0.8,objective = 'binary:logistic',seed= 27),param_grid = xgb5_param,scoring = 'roc_auc',n_jobs=4,iid = False,cv=5)\n",
    "gsearch3.fit(train,target)\n",
    "gsearch3.grid_scores_, gsearch3.best_params_, gsearch3.best_score_"
   ]
  },
  {
   "cell_type": "code",
   "execution_count": 25,
   "metadata": {
    "collapsed": false
   },
   "outputs": [
    {
     "data": {
      "text/plain": [
       "0.99057155068780045"
      ]
     },
     "execution_count": 25,
     "metadata": {},
     "output_type": "execute_result"
    }
   ],
   "source": [
    "xgb5 = XGBClassifier(learning_rate = 0.1,n_estimators=200,max_depth=9,min_child_weight= 3,gamma = 0.3,subsample = 0.8,colsample_bytree = 0.9,objective = 'binary:logistic',seed= 27)\n",
    "xgb5 = xgb5.fit(train,target,eval_metric = 'auc')\n",
    "xgb5_proba = xgb5.predict_proba(X_test)\n",
    "roc_auc_score(y_test,xgb5_proba[:,1])"
   ]
  },
  {
   "cell_type": "code",
   "execution_count": 26,
   "metadata": {
    "collapsed": true
   },
   "outputs": [],
   "source": [
    "xgb5_test = xgb5.predict_proba(test)\n",
    "xgb5_submission = pd.DataFrame({'activity_id':submission_ids,'outcome':xgb5_test[:,1]})\n",
    "xgb5_submission.to_csv('xgb5_submission.csv',index = False)"
   ]
  },
  {
   "cell_type": "code",
   "execution_count": 14,
   "metadata": {
    "collapsed": false
   },
   "outputs": [
    {
     "data": {
      "text/plain": [
       "([mean: 0.93048, std: 0.02173, params: {'reg_alpha': 1e-05},\n",
       "  mean: 0.92862, std: 0.02274, params: {'reg_alpha': 0.01},\n",
       "  mean: 0.92824, std: 0.02450, params: {'reg_alpha': 0.1},\n",
       "  mean: 0.92542, std: 0.02786, params: {'reg_alpha': 1},\n",
       "  mean: 0.91659, std: 0.03713, params: {'reg_alpha': 100}],\n",
       " {'reg_alpha': 1e-05},\n",
       " 0.93047572704431702)"
      ]
     },
     "execution_count": 14,
     "metadata": {},
     "output_type": "execute_result"
    }
   ],
   "source": [
    "xgb6_param = {'reg_alpha':[1e-5, 1e-2, 0.1, 1, 100]}\n",
    "gsearch4 = GridSearchCV(estimator = XGBClassifier(learning_rate = 0.1,n_estimators=100,max_depth=9,min_child_weight= 3,gamma = 0.3,subsample = 0.8,colsample_bytree = 0.9,objective = 'binary:logistic',seed= 27),param_grid = xgb6_param,scoring = 'roc_auc',n_jobs=4,iid = False,cv=5)\n",
    "gsearch4.fit(train,target)\n",
    "gsearch4.grid_scores_, gsearch4.best_params_, gsearch4.best_score_"
   ]
  },
  {
   "cell_type": "code",
   "execution_count": 15,
   "metadata": {
    "collapsed": false
   },
   "outputs": [
    {
     "data": {
      "text/plain": [
       "0.99057154924085444"
      ]
     },
     "execution_count": 15,
     "metadata": {},
     "output_type": "execute_result"
    }
   ],
   "source": [
    "xgb6 = XGBClassifier(learning_rate = 0.1,n_estimators=200,max_depth=9,min_child_weight= 3,gamma = 0.3,subsample = 0.8,colsample_bytree = 0.9,reg_alpha=1e-05,objective = 'binary:logistic',seed= 27)\n",
    "xgb6.fit(train,target,eval_metric = 'auc')\n",
    "xgb6_proba = xgb6.predict_proba(X_test)\n",
    "roc_auc_score(y_test,xgb6_proba[:,1])"
   ]
  },
  {
   "cell_type": "code",
   "execution_count": 17,
   "metadata": {
    "collapsed": false
   },
   "outputs": [],
   "source": [
    "xgb6_test = xgb6.predict_proba(test)\n",
    "xgb6_submission = pd.DataFrame({'activity_id':submission_ids,'outcome': xgb6_test[:,1]})\n",
    "xgb6_submission.to_csv('xgb6_submission.csv',index = False)"
   ]
  },
  {
   "cell_type": "code",
   "execution_count": 20,
   "metadata": {
    "collapsed": false
   },
   "outputs": [
    {
     "ename": "NameError",
     "evalue": "name 'xgb7_submisiion' is not defined",
     "output_type": "error",
     "traceback": [
      "\u001b[0;31m---------------------------------------------------------------------------\u001b[0m",
      "\u001b[0;31mNameError\u001b[0m                                 Traceback (most recent call last)",
      "\u001b[0;32m<ipython-input-20-596dc8be2dbf>\u001b[0m in \u001b[0;36m<module>\u001b[0;34m()\u001b[0m\n\u001b[1;32m      3\u001b[0m \u001b[0mxgb7_test\u001b[0m \u001b[0;34m=\u001b[0m \u001b[0mxgb7\u001b[0m\u001b[0;34m.\u001b[0m\u001b[0mpredict_proba\u001b[0m\u001b[0;34m(\u001b[0m\u001b[0mtest\u001b[0m\u001b[0;34m)\u001b[0m\u001b[0;34m\u001b[0m\u001b[0m\n\u001b[1;32m      4\u001b[0m \u001b[0mxgb7_submission\u001b[0m \u001b[0;34m=\u001b[0m \u001b[0mpd\u001b[0m\u001b[0;34m.\u001b[0m\u001b[0mDataFrame\u001b[0m\u001b[0;34m(\u001b[0m\u001b[0;34m{\u001b[0m\u001b[0;34m'activity_id'\u001b[0m\u001b[0;34m:\u001b[0m\u001b[0msubmission_ids\u001b[0m\u001b[0;34m,\u001b[0m\u001b[0;34m'outcome'\u001b[0m\u001b[0;34m:\u001b[0m\u001b[0mxgb7_test\u001b[0m\u001b[0;34m[\u001b[0m\u001b[0;34m:\u001b[0m\u001b[0;34m,\u001b[0m\u001b[0;36m1\u001b[0m\u001b[0;34m]\u001b[0m\u001b[0;34m}\u001b[0m\u001b[0;34m)\u001b[0m\u001b[0;34m\u001b[0m\u001b[0m\n\u001b[0;32m----> 5\u001b[0;31m \u001b[0mxgb7_submisiion\u001b[0m\u001b[0;34m.\u001b[0m\u001b[0mto_csv\u001b[0m\u001b[0;34m(\u001b[0m\u001b[0;34m'xgb7_submission.csv'\u001b[0m\u001b[0;34m,\u001b[0m\u001b[0mindex\u001b[0m \u001b[0;34m=\u001b[0m \u001b[0;32mFalse\u001b[0m\u001b[0;34m)\u001b[0m\u001b[0;34m\u001b[0m\u001b[0m\n\u001b[0m",
      "\u001b[0;31mNameError\u001b[0m: name 'xgb7_submisiion' is not defined"
     ]
    }
   ],
   "source": [
    "xgb7 = XGBClassifier(learning_rate = 0.01,n_estimators=2000,max_depth=9,min_child_weight= 3,gamma = 0.3,subsample = 0.8,colsample_bytree = 0.9,reg_alpha=1e-05,objective = 'binary:logistic',seed= 27)\n",
    "xgb7.fit(train,target,eval_metric = 'auc')\n",
    "xgb7_test = xgb7.predict_proba(test)\n",
    "xgb7_submission = pd.DataFrame({'activity_id':submission_ids,'outcome':xgb7_test[:,1]})\n"
   ]
  },
  {
   "cell_type": "code",
   "execution_count": 21,
   "metadata": {
    "collapsed": true
   },
   "outputs": [],
   "source": [
    "xgb7_submission.to_csv('xgb7_submission.csv',index = False)"
   ]
  },
  {
   "cell_type": "code",
   "execution_count": 27,
   "metadata": {
    "collapsed": true
   },
   "outputs": [],
   "source": [
    "xgb_ave = (xgb7_test[:,1]+xgb6_test[:,1]+xgb5_test[:,1]+xgb4_test[:,1])/4"
   ]
  },
  {
   "cell_type": "code",
   "execution_count": 29,
   "metadata": {
    "collapsed": false
   },
   "outputs": [],
   "source": [
    "xgb_ave_submission = pd.DataFrame({'activity_id':submission_ids,'outcome':xgb_ave})\n",
    "xgb_ave_submission.to_csv('xgb_ave_submission.csv',index = False)"
   ]
  },
  {
   "cell_type": "code",
   "execution_count": 8,
   "metadata": {
    "collapsed": false
   },
   "outputs": [],
   "source": [
    "import xgboost as xgb\n",
    "dtrain = xgb.DMatrix(train,target)\n",
    "dtest = xgb.DMatrix(test)\n",
    "param2 = {'max_depth':9,'min_child_weight':3, 'eta':0.01,'gamma':0.3,'subsample':0.8,'colsample_bytree':0.9,'alpha':1e-05,'silent':1,'objective':'binary:logistic','eval_metric':'auc'}\n",
    "num_round = 2000\n",
    "bst2 = xgb.train(param2,dtrain,num_round)\n",
    "pred2 = bst2.predict(dtest)"
   ]
  },
  {
   "cell_type": "code",
   "execution_count": 10,
   "metadata": {
    "collapsed": false
   },
   "outputs": [],
   "source": [
    "bst2_sub_full = pd.DataFrame({'activity_id':submission_ids,'outcome':(1 - pred2)})\n",
    "bst2_sub_full.to_csv('bst2_sub_full.csv', index = False)"
   ]
  },
  {
   "cell_type": "code",
   "execution_count": null,
   "metadata": {
    "collapsed": true
   },
   "outputs": [],
   "source": []
  }
 ],
 "metadata": {
  "anaconda-cloud": {},
  "kernelspec": {
   "display_name": "Python [Root]",
   "language": "python",
   "name": "Python [Root]"
  },
  "language_info": {
   "codemirror_mode": {
    "name": "ipython",
    "version": 3
   },
   "file_extension": ".py",
   "mimetype": "text/x-python",
   "name": "python",
   "nbconvert_exporter": "python",
   "pygments_lexer": "ipython3",
   "version": "3.5.2"
  }
 },
 "nbformat": 4,
 "nbformat_minor": 0
}
