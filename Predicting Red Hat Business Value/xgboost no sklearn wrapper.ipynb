{
 "cells": [
  {
   "cell_type": "code",
   "execution_count": 1,
   "metadata": {
    "collapsed": true
   },
   "outputs": [],
   "source": [
    "import xgboost as xgb\n",
    "import pandas as pd\n",
    "import numpy as np"
   ]
  },
  {
   "cell_type": "code",
   "execution_count": 2,
   "metadata": {
    "collapsed": true
   },
   "outputs": [],
   "source": [
    "act_train = pd.read_csv('act_train.csv')\n",
    "act_test = pd.read_csv('act_test.csv')\n",
    "people = pd.read_csv('people.csv')"
   ]
  },
  {
   "cell_type": "code",
   "execution_count": 3,
   "metadata": {
    "collapsed": false
   },
   "outputs": [],
   "source": [
    "sub_id = act_test['activity_id']"
   ]
  },
  {
   "cell_type": "code",
   "execution_count": 4,
   "metadata": {
    "collapsed": false
   },
   "outputs": [
    {
     "data": {
      "text/plain": [
       "Index(['people_id', 'activity_id', 'date', 'activity_category', 'char_1',\n",
       "       'char_2', 'char_3', 'char_4', 'char_5', 'char_6', 'char_7', 'char_8',\n",
       "       'char_9', 'char_10', 'outcome'],\n",
       "      dtype='object')"
      ]
     },
     "execution_count": 4,
     "metadata": {},
     "output_type": "execute_result"
    }
   ],
   "source": [
    "act_train.columns"
   ]
  },
  {
   "cell_type": "code",
   "execution_count": 5,
   "metadata": {
    "collapsed": false
   },
   "outputs": [
    {
     "data": {
      "text/plain": [
       "Index(['people_id', 'char_1', 'group_1', 'char_2', 'date', 'char_3', 'char_4',\n",
       "       'char_5', 'char_6', 'char_7', 'char_8', 'char_9', 'char_10', 'char_11',\n",
       "       'char_12', 'char_13', 'char_14', 'char_15', 'char_16', 'char_17',\n",
       "       'char_18', 'char_19', 'char_20', 'char_21', 'char_22', 'char_23',\n",
       "       'char_24', 'char_25', 'char_26', 'char_27', 'char_28', 'char_29',\n",
       "       'char_30', 'char_31', 'char_32', 'char_33', 'char_34', 'char_35',\n",
       "       'char_36', 'char_37', 'char_38'],\n",
       "      dtype='object')"
      ]
     },
     "execution_count": 5,
     "metadata": {},
     "output_type": "execute_result"
    }
   ],
   "source": [
    "people.columns"
   ]
  },
  {
   "cell_type": "code",
   "execution_count": 6,
   "metadata": {
    "collapsed": false
   },
   "outputs": [],
   "source": [
    "train = pd.merge(act_train[['people_id','activity_id','date','activity_category','outcome']],people,how = 'left',on ='people_id',left_index = True)\n",
    "test = pd.merge(act_test[['people_id','activity_id','date','activity_category']],people,how = 'left',on = 'people_id',left_index=True)"
   ]
  },
  {
   "cell_type": "code",
   "execution_count": 7,
   "metadata": {
    "collapsed": false
   },
   "outputs": [
    {
     "data": {
      "text/plain": [
       "Index(['people_id', 'activity_id', 'date_x', 'activity_category', 'outcome',\n",
       "       'char_1', 'group_1', 'char_2', 'date_y', 'char_3', 'char_4', 'char_5',\n",
       "       'char_6', 'char_7', 'char_8', 'char_9', 'char_10', 'char_11', 'char_12',\n",
       "       'char_13', 'char_14', 'char_15', 'char_16', 'char_17', 'char_18',\n",
       "       'char_19', 'char_20', 'char_21', 'char_22', 'char_23', 'char_24',\n",
       "       'char_25', 'char_26', 'char_27', 'char_28', 'char_29', 'char_30',\n",
       "       'char_31', 'char_32', 'char_33', 'char_34', 'char_35', 'char_36',\n",
       "       'char_37', 'char_38'],\n",
       "      dtype='object')"
      ]
     },
     "execution_count": 7,
     "metadata": {},
     "output_type": "execute_result"
    }
   ],
   "source": [
    "train.columns"
   ]
  },
  {
   "cell_type": "code",
   "execution_count": 8,
   "metadata": {
    "collapsed": false
   },
   "outputs": [
    {
     "data": {
      "text/html": [
       "<div>\n",
       "<table border=\"1\" class=\"dataframe\">\n",
       "  <thead>\n",
       "    <tr style=\"text-align: right;\">\n",
       "      <th></th>\n",
       "      <th>people_id</th>\n",
       "      <th>activity_id</th>\n",
       "      <th>activity_category</th>\n",
       "      <th>outcome</th>\n",
       "      <th>char_1</th>\n",
       "      <th>group_1</th>\n",
       "      <th>char_2</th>\n",
       "      <th>char_3</th>\n",
       "      <th>char_4</th>\n",
       "      <th>char_5</th>\n",
       "      <th>...</th>\n",
       "      <th>char_31</th>\n",
       "      <th>char_32</th>\n",
       "      <th>char_33</th>\n",
       "      <th>char_34</th>\n",
       "      <th>char_35</th>\n",
       "      <th>char_36</th>\n",
       "      <th>char_37</th>\n",
       "      <th>char_38</th>\n",
       "      <th>weekday_x</th>\n",
       "      <th>weekday_y</th>\n",
       "    </tr>\n",
       "  </thead>\n",
       "  <tbody>\n",
       "    <tr>\n",
       "      <th>0</th>\n",
       "      <td>ppl_100</td>\n",
       "      <td>act2_1734928</td>\n",
       "      <td>type 4</td>\n",
       "      <td>0</td>\n",
       "      <td>type 2</td>\n",
       "      <td>group 17304</td>\n",
       "      <td>type 2</td>\n",
       "      <td>type 5</td>\n",
       "      <td>type 5</td>\n",
       "      <td>type 5</td>\n",
       "      <td>...</td>\n",
       "      <td>True</td>\n",
       "      <td>False</td>\n",
       "      <td>False</td>\n",
       "      <td>True</td>\n",
       "      <td>True</td>\n",
       "      <td>True</td>\n",
       "      <td>False</td>\n",
       "      <td>36</td>\n",
       "      <td>6</td>\n",
       "      <td>2</td>\n",
       "    </tr>\n",
       "    <tr>\n",
       "      <th>0</th>\n",
       "      <td>ppl_100</td>\n",
       "      <td>act2_2434093</td>\n",
       "      <td>type 2</td>\n",
       "      <td>0</td>\n",
       "      <td>type 2</td>\n",
       "      <td>group 17304</td>\n",
       "      <td>type 2</td>\n",
       "      <td>type 5</td>\n",
       "      <td>type 5</td>\n",
       "      <td>type 5</td>\n",
       "      <td>...</td>\n",
       "      <td>True</td>\n",
       "      <td>False</td>\n",
       "      <td>False</td>\n",
       "      <td>True</td>\n",
       "      <td>True</td>\n",
       "      <td>True</td>\n",
       "      <td>False</td>\n",
       "      <td>36</td>\n",
       "      <td>2</td>\n",
       "      <td>2</td>\n",
       "    </tr>\n",
       "    <tr>\n",
       "      <th>0</th>\n",
       "      <td>ppl_100</td>\n",
       "      <td>act2_3404049</td>\n",
       "      <td>type 2</td>\n",
       "      <td>0</td>\n",
       "      <td>type 2</td>\n",
       "      <td>group 17304</td>\n",
       "      <td>type 2</td>\n",
       "      <td>type 5</td>\n",
       "      <td>type 5</td>\n",
       "      <td>type 5</td>\n",
       "      <td>...</td>\n",
       "      <td>True</td>\n",
       "      <td>False</td>\n",
       "      <td>False</td>\n",
       "      <td>True</td>\n",
       "      <td>True</td>\n",
       "      <td>True</td>\n",
       "      <td>False</td>\n",
       "      <td>36</td>\n",
       "      <td>2</td>\n",
       "      <td>2</td>\n",
       "    </tr>\n",
       "    <tr>\n",
       "      <th>0</th>\n",
       "      <td>ppl_100</td>\n",
       "      <td>act2_3651215</td>\n",
       "      <td>type 2</td>\n",
       "      <td>0</td>\n",
       "      <td>type 2</td>\n",
       "      <td>group 17304</td>\n",
       "      <td>type 2</td>\n",
       "      <td>type 5</td>\n",
       "      <td>type 5</td>\n",
       "      <td>type 5</td>\n",
       "      <td>...</td>\n",
       "      <td>True</td>\n",
       "      <td>False</td>\n",
       "      <td>False</td>\n",
       "      <td>True</td>\n",
       "      <td>True</td>\n",
       "      <td>True</td>\n",
       "      <td>False</td>\n",
       "      <td>36</td>\n",
       "      <td>5</td>\n",
       "      <td>2</td>\n",
       "    </tr>\n",
       "    <tr>\n",
       "      <th>0</th>\n",
       "      <td>ppl_100</td>\n",
       "      <td>act2_4109017</td>\n",
       "      <td>type 2</td>\n",
       "      <td>0</td>\n",
       "      <td>type 2</td>\n",
       "      <td>group 17304</td>\n",
       "      <td>type 2</td>\n",
       "      <td>type 5</td>\n",
       "      <td>type 5</td>\n",
       "      <td>type 5</td>\n",
       "      <td>...</td>\n",
       "      <td>True</td>\n",
       "      <td>False</td>\n",
       "      <td>False</td>\n",
       "      <td>True</td>\n",
       "      <td>True</td>\n",
       "      <td>True</td>\n",
       "      <td>False</td>\n",
       "      <td>36</td>\n",
       "      <td>6</td>\n",
       "      <td>2</td>\n",
       "    </tr>\n",
       "  </tbody>\n",
       "</table>\n",
       "<p>5 rows × 45 columns</p>\n",
       "</div>"
      ],
      "text/plain": [
       "  people_id   activity_id activity_category  outcome  char_1      group_1  \\\n",
       "0   ppl_100  act2_1734928            type 4        0  type 2  group 17304   \n",
       "0   ppl_100  act2_2434093            type 2        0  type 2  group 17304   \n",
       "0   ppl_100  act2_3404049            type 2        0  type 2  group 17304   \n",
       "0   ppl_100  act2_3651215            type 2        0  type 2  group 17304   \n",
       "0   ppl_100  act2_4109017            type 2        0  type 2  group 17304   \n",
       "\n",
       "   char_2  char_3  char_4  char_5    ...    char_31 char_32 char_33 char_34  \\\n",
       "0  type 2  type 5  type 5  type 5    ...       True   False   False    True   \n",
       "0  type 2  type 5  type 5  type 5    ...       True   False   False    True   \n",
       "0  type 2  type 5  type 5  type 5    ...       True   False   False    True   \n",
       "0  type 2  type 5  type 5  type 5    ...       True   False   False    True   \n",
       "0  type 2  type 5  type 5  type 5    ...       True   False   False    True   \n",
       "\n",
       "  char_35 char_36 char_37 char_38 weekday_x weekday_y  \n",
       "0    True    True   False      36         6         2  \n",
       "0    True    True   False      36         2         2  \n",
       "0    True    True   False      36         2         2  \n",
       "0    True    True   False      36         5         2  \n",
       "0    True    True   False      36         6         2  \n",
       "\n",
       "[5 rows x 45 columns]"
      ]
     },
     "execution_count": 8,
     "metadata": {},
     "output_type": "execute_result"
    }
   ],
   "source": [
    "def getdate(df):\n",
    "    df['date_x'] = pd.to_datetime(df['date_x'])\n",
    "    df['date_y'] = pd.to_datetime(df['date_y'])\n",
    "    df['weekday_x'] = df['date_x'].apply(lambda x: x.isoweekday())\n",
    "    df['weekday_y'] = df['date_y'].apply(lambda x: x.isoweekday())\n",
    "    df.drop(['date_x','date_y'],axis = 1,inplace = True)\n",
    "    return df\n",
    "getdate(train)\n",
    "getdate(test)\n",
    "train.head()"
   ]
  },
  {
   "cell_type": "code",
   "execution_count": 10,
   "metadata": {
    "collapsed": false
   },
   "outputs": [
    {
     "data": {
      "text/plain": [
       "44"
      ]
     },
     "execution_count": 10,
     "metadata": {},
     "output_type": "execute_result"
    }
   ],
   "source": [
    "len(test.columns)"
   ]
  },
  {
   "cell_type": "code",
   "execution_count": 9,
   "metadata": {
    "collapsed": false
   },
   "outputs": [
    {
     "name": "stdout",
     "output_type": "stream",
     "text": [
      "['char_1', 'group_1', 'char_2', 'char_3', 'char_4', 'char_5', 'char_6', 'char_7', 'char_8', 'char_9', 'activity_category']\n"
     ]
    }
   ],
   "source": [
    "col_dash = ['people_id','activity_id']\n",
    "col_space = list(train.columns[4:14])\n",
    "col_space.append('activity_category')\n",
    "col_bool = train.columns[14:42]\n",
    "print(col_space)"
   ]
  },
  {
   "cell_type": "code",
   "execution_count": 10,
   "metadata": {
    "collapsed": true
   },
   "outputs": [],
   "source": [
    "def cleanup(df):\n",
    "    for col in col_dash:\n",
    "        df[col] = df[col].apply(lambda x:x.split('_')[1])\n",
    "        df[col] = pd.to_numeric(df[col]).astype(int)\n",
    "    for col in col_space:\n",
    "        df[col] = df[col].apply(lambda x:x.split(' ')[1])\n",
    "        df[col] = df[col].fillna(-999)\n",
    "        df[col] = pd.to_numeric(df[col]).astype(int)\n",
    "    for col in col_bool:\n",
    "        df[col] = pd.to_numeric(df[col]).astype(int)    "
   ]
  },
  {
   "cell_type": "code",
   "execution_count": 11,
   "metadata": {
    "collapsed": false
   },
   "outputs": [
    {
     "data": {
      "text/html": [
       "<div>\n",
       "<table border=\"1\" class=\"dataframe\">\n",
       "  <thead>\n",
       "    <tr style=\"text-align: right;\">\n",
       "      <th></th>\n",
       "      <th>people_id</th>\n",
       "      <th>activity_id</th>\n",
       "      <th>activity_category</th>\n",
       "      <th>outcome</th>\n",
       "      <th>char_1</th>\n",
       "      <th>group_1</th>\n",
       "      <th>char_2</th>\n",
       "      <th>char_3</th>\n",
       "      <th>char_4</th>\n",
       "      <th>char_5</th>\n",
       "      <th>...</th>\n",
       "      <th>char_31</th>\n",
       "      <th>char_32</th>\n",
       "      <th>char_33</th>\n",
       "      <th>char_34</th>\n",
       "      <th>char_35</th>\n",
       "      <th>char_36</th>\n",
       "      <th>char_37</th>\n",
       "      <th>char_38</th>\n",
       "      <th>weekday_x</th>\n",
       "      <th>weekday_y</th>\n",
       "    </tr>\n",
       "  </thead>\n",
       "  <tbody>\n",
       "    <tr>\n",
       "      <th>0</th>\n",
       "      <td>100</td>\n",
       "      <td>1734928</td>\n",
       "      <td>4</td>\n",
       "      <td>0</td>\n",
       "      <td>2</td>\n",
       "      <td>17304</td>\n",
       "      <td>2</td>\n",
       "      <td>5</td>\n",
       "      <td>5</td>\n",
       "      <td>5</td>\n",
       "      <td>...</td>\n",
       "      <td>1</td>\n",
       "      <td>0</td>\n",
       "      <td>0</td>\n",
       "      <td>1</td>\n",
       "      <td>1</td>\n",
       "      <td>1</td>\n",
       "      <td>0</td>\n",
       "      <td>36</td>\n",
       "      <td>6</td>\n",
       "      <td>2</td>\n",
       "    </tr>\n",
       "    <tr>\n",
       "      <th>0</th>\n",
       "      <td>100</td>\n",
       "      <td>2434093</td>\n",
       "      <td>2</td>\n",
       "      <td>0</td>\n",
       "      <td>2</td>\n",
       "      <td>17304</td>\n",
       "      <td>2</td>\n",
       "      <td>5</td>\n",
       "      <td>5</td>\n",
       "      <td>5</td>\n",
       "      <td>...</td>\n",
       "      <td>1</td>\n",
       "      <td>0</td>\n",
       "      <td>0</td>\n",
       "      <td>1</td>\n",
       "      <td>1</td>\n",
       "      <td>1</td>\n",
       "      <td>0</td>\n",
       "      <td>36</td>\n",
       "      <td>2</td>\n",
       "      <td>2</td>\n",
       "    </tr>\n",
       "    <tr>\n",
       "      <th>0</th>\n",
       "      <td>100</td>\n",
       "      <td>3404049</td>\n",
       "      <td>2</td>\n",
       "      <td>0</td>\n",
       "      <td>2</td>\n",
       "      <td>17304</td>\n",
       "      <td>2</td>\n",
       "      <td>5</td>\n",
       "      <td>5</td>\n",
       "      <td>5</td>\n",
       "      <td>...</td>\n",
       "      <td>1</td>\n",
       "      <td>0</td>\n",
       "      <td>0</td>\n",
       "      <td>1</td>\n",
       "      <td>1</td>\n",
       "      <td>1</td>\n",
       "      <td>0</td>\n",
       "      <td>36</td>\n",
       "      <td>2</td>\n",
       "      <td>2</td>\n",
       "    </tr>\n",
       "    <tr>\n",
       "      <th>0</th>\n",
       "      <td>100</td>\n",
       "      <td>3651215</td>\n",
       "      <td>2</td>\n",
       "      <td>0</td>\n",
       "      <td>2</td>\n",
       "      <td>17304</td>\n",
       "      <td>2</td>\n",
       "      <td>5</td>\n",
       "      <td>5</td>\n",
       "      <td>5</td>\n",
       "      <td>...</td>\n",
       "      <td>1</td>\n",
       "      <td>0</td>\n",
       "      <td>0</td>\n",
       "      <td>1</td>\n",
       "      <td>1</td>\n",
       "      <td>1</td>\n",
       "      <td>0</td>\n",
       "      <td>36</td>\n",
       "      <td>5</td>\n",
       "      <td>2</td>\n",
       "    </tr>\n",
       "    <tr>\n",
       "      <th>0</th>\n",
       "      <td>100</td>\n",
       "      <td>4109017</td>\n",
       "      <td>2</td>\n",
       "      <td>0</td>\n",
       "      <td>2</td>\n",
       "      <td>17304</td>\n",
       "      <td>2</td>\n",
       "      <td>5</td>\n",
       "      <td>5</td>\n",
       "      <td>5</td>\n",
       "      <td>...</td>\n",
       "      <td>1</td>\n",
       "      <td>0</td>\n",
       "      <td>0</td>\n",
       "      <td>1</td>\n",
       "      <td>1</td>\n",
       "      <td>1</td>\n",
       "      <td>0</td>\n",
       "      <td>36</td>\n",
       "      <td>6</td>\n",
       "      <td>2</td>\n",
       "    </tr>\n",
       "  </tbody>\n",
       "</table>\n",
       "<p>5 rows × 45 columns</p>\n",
       "</div>"
      ],
      "text/plain": [
       "   people_id  activity_id  activity_category  outcome  char_1  group_1  \\\n",
       "0        100      1734928                  4        0       2    17304   \n",
       "0        100      2434093                  2        0       2    17304   \n",
       "0        100      3404049                  2        0       2    17304   \n",
       "0        100      3651215                  2        0       2    17304   \n",
       "0        100      4109017                  2        0       2    17304   \n",
       "\n",
       "   char_2  char_3  char_4  char_5    ...      char_31  char_32  char_33  \\\n",
       "0       2       5       5       5    ...            1        0        0   \n",
       "0       2       5       5       5    ...            1        0        0   \n",
       "0       2       5       5       5    ...            1        0        0   \n",
       "0       2       5       5       5    ...            1        0        0   \n",
       "0       2       5       5       5    ...            1        0        0   \n",
       "\n",
       "   char_34  char_35  char_36  char_37  char_38  weekday_x  weekday_y  \n",
       "0        1        1        1        0       36          6          2  \n",
       "0        1        1        1        0       36          2          2  \n",
       "0        1        1        1        0       36          2          2  \n",
       "0        1        1        1        0       36          5          2  \n",
       "0        1        1        1        0       36          6          2  \n",
       "\n",
       "[5 rows x 45 columns]"
      ]
     },
     "execution_count": 11,
     "metadata": {},
     "output_type": "execute_result"
    }
   ],
   "source": [
    "cleanup(train)\n",
    "train.to_csv('numerical_train.csv', index = False)\n",
    "train.head()"
   ]
  },
  {
   "cell_type": "code",
   "execution_count": 13,
   "metadata": {
    "collapsed": false
   },
   "outputs": [
    {
     "ename": "AttributeError",
     "evalue": "'int' object has no attribute 'split'",
     "output_type": "error",
     "traceback": [
      "\u001b[0;31m---------------------------------------------------------------------------\u001b[0m",
      "\u001b[0;31mAttributeError\u001b[0m                            Traceback (most recent call last)",
      "\u001b[0;32m<ipython-input-13-e932ea91b018>\u001b[0m in \u001b[0;36m<module>\u001b[0;34m()\u001b[0m\n\u001b[0;32m----> 1\u001b[0;31m \u001b[0mcleanup\u001b[0m\u001b[0;34m(\u001b[0m\u001b[0mtest\u001b[0m\u001b[0;34m)\u001b[0m\u001b[0;34m\u001b[0m\u001b[0m\n\u001b[0m\u001b[1;32m      2\u001b[0m \u001b[0mtest\u001b[0m\u001b[0;34m.\u001b[0m\u001b[0mto_csv\u001b[0m\u001b[0;34m(\u001b[0m\u001b[0;34m'numerical_test.csv'\u001b[0m\u001b[0;34m,\u001b[0m\u001b[0mindex\u001b[0m \u001b[0;34m=\u001b[0m \u001b[0;32mFalse\u001b[0m\u001b[0;34m)\u001b[0m\u001b[0;34m\u001b[0m\u001b[0m\n\u001b[1;32m      3\u001b[0m \u001b[0mtest\u001b[0m\u001b[0;34m.\u001b[0m\u001b[0mhead\u001b[0m\u001b[0;34m(\u001b[0m\u001b[0;34m)\u001b[0m\u001b[0;34m\u001b[0m\u001b[0m\n",
      "\u001b[0;32m<ipython-input-10-925c3d28bb27>\u001b[0m in \u001b[0;36mcleanup\u001b[0;34m(df)\u001b[0m\n\u001b[1;32m      1\u001b[0m \u001b[0;32mdef\u001b[0m \u001b[0mcleanup\u001b[0m\u001b[0;34m(\u001b[0m\u001b[0mdf\u001b[0m\u001b[0;34m)\u001b[0m\u001b[0;34m:\u001b[0m\u001b[0;34m\u001b[0m\u001b[0m\n\u001b[1;32m      2\u001b[0m     \u001b[0;32mfor\u001b[0m \u001b[0mcol\u001b[0m \u001b[0;32min\u001b[0m \u001b[0mcol_dash\u001b[0m\u001b[0;34m:\u001b[0m\u001b[0;34m\u001b[0m\u001b[0m\n\u001b[0;32m----> 3\u001b[0;31m         \u001b[0mdf\u001b[0m\u001b[0;34m[\u001b[0m\u001b[0mcol\u001b[0m\u001b[0;34m]\u001b[0m \u001b[0;34m=\u001b[0m \u001b[0mdf\u001b[0m\u001b[0;34m[\u001b[0m\u001b[0mcol\u001b[0m\u001b[0;34m]\u001b[0m\u001b[0;34m.\u001b[0m\u001b[0mapply\u001b[0m\u001b[0;34m(\u001b[0m\u001b[0;32mlambda\u001b[0m \u001b[0mx\u001b[0m\u001b[0;34m:\u001b[0m\u001b[0mx\u001b[0m\u001b[0;34m.\u001b[0m\u001b[0msplit\u001b[0m\u001b[0;34m(\u001b[0m\u001b[0;34m'_'\u001b[0m\u001b[0;34m)\u001b[0m\u001b[0;34m[\u001b[0m\u001b[0;36m1\u001b[0m\u001b[0;34m]\u001b[0m\u001b[0;34m)\u001b[0m\u001b[0;34m\u001b[0m\u001b[0m\n\u001b[0m\u001b[1;32m      4\u001b[0m         \u001b[0mdf\u001b[0m\u001b[0;34m[\u001b[0m\u001b[0mcol\u001b[0m\u001b[0;34m]\u001b[0m \u001b[0;34m=\u001b[0m \u001b[0mpd\u001b[0m\u001b[0;34m.\u001b[0m\u001b[0mto_numeric\u001b[0m\u001b[0;34m(\u001b[0m\u001b[0mdf\u001b[0m\u001b[0;34m[\u001b[0m\u001b[0mcol\u001b[0m\u001b[0;34m]\u001b[0m\u001b[0;34m)\u001b[0m\u001b[0;34m.\u001b[0m\u001b[0mastype\u001b[0m\u001b[0;34m(\u001b[0m\u001b[0mint\u001b[0m\u001b[0;34m)\u001b[0m\u001b[0;34m\u001b[0m\u001b[0m\n\u001b[1;32m      5\u001b[0m     \u001b[0;32mfor\u001b[0m \u001b[0mcol\u001b[0m \u001b[0;32min\u001b[0m \u001b[0mcol_space\u001b[0m\u001b[0;34m:\u001b[0m\u001b[0;34m\u001b[0m\u001b[0m\n",
      "\u001b[0;32m//anaconda/lib/python3.5/site-packages/pandas/core/series.py\u001b[0m in \u001b[0;36mapply\u001b[0;34m(self, func, convert_dtype, args, **kwds)\u001b[0m\n\u001b[1;32m   2218\u001b[0m         \u001b[0;32melse\u001b[0m\u001b[0;34m:\u001b[0m\u001b[0;34m\u001b[0m\u001b[0m\n\u001b[1;32m   2219\u001b[0m             \u001b[0mvalues\u001b[0m \u001b[0;34m=\u001b[0m \u001b[0mself\u001b[0m\u001b[0;34m.\u001b[0m\u001b[0masobject\u001b[0m\u001b[0;34m\u001b[0m\u001b[0m\n\u001b[0;32m-> 2220\u001b[0;31m             \u001b[0mmapped\u001b[0m \u001b[0;34m=\u001b[0m \u001b[0mlib\u001b[0m\u001b[0;34m.\u001b[0m\u001b[0mmap_infer\u001b[0m\u001b[0;34m(\u001b[0m\u001b[0mvalues\u001b[0m\u001b[0;34m,\u001b[0m \u001b[0mf\u001b[0m\u001b[0;34m,\u001b[0m \u001b[0mconvert\u001b[0m\u001b[0;34m=\u001b[0m\u001b[0mconvert_dtype\u001b[0m\u001b[0;34m)\u001b[0m\u001b[0;34m\u001b[0m\u001b[0m\n\u001b[0m\u001b[1;32m   2221\u001b[0m \u001b[0;34m\u001b[0m\u001b[0m\n\u001b[1;32m   2222\u001b[0m         \u001b[0;32mif\u001b[0m \u001b[0mlen\u001b[0m\u001b[0;34m(\u001b[0m\u001b[0mmapped\u001b[0m\u001b[0;34m)\u001b[0m \u001b[0;32mand\u001b[0m \u001b[0misinstance\u001b[0m\u001b[0;34m(\u001b[0m\u001b[0mmapped\u001b[0m\u001b[0;34m[\u001b[0m\u001b[0;36m0\u001b[0m\u001b[0;34m]\u001b[0m\u001b[0;34m,\u001b[0m \u001b[0mSeries\u001b[0m\u001b[0;34m)\u001b[0m\u001b[0;34m:\u001b[0m\u001b[0;34m\u001b[0m\u001b[0m\n",
      "\u001b[0;32mpandas/src/inference.pyx\u001b[0m in \u001b[0;36mpandas.lib.map_infer (pandas/lib.c:62658)\u001b[0;34m()\u001b[0m\n",
      "\u001b[0;32m<ipython-input-10-925c3d28bb27>\u001b[0m in \u001b[0;36m<lambda>\u001b[0;34m(x)\u001b[0m\n\u001b[1;32m      1\u001b[0m \u001b[0;32mdef\u001b[0m \u001b[0mcleanup\u001b[0m\u001b[0;34m(\u001b[0m\u001b[0mdf\u001b[0m\u001b[0;34m)\u001b[0m\u001b[0;34m:\u001b[0m\u001b[0;34m\u001b[0m\u001b[0m\n\u001b[1;32m      2\u001b[0m     \u001b[0;32mfor\u001b[0m \u001b[0mcol\u001b[0m \u001b[0;32min\u001b[0m \u001b[0mcol_dash\u001b[0m\u001b[0;34m:\u001b[0m\u001b[0;34m\u001b[0m\u001b[0m\n\u001b[0;32m----> 3\u001b[0;31m         \u001b[0mdf\u001b[0m\u001b[0;34m[\u001b[0m\u001b[0mcol\u001b[0m\u001b[0;34m]\u001b[0m \u001b[0;34m=\u001b[0m \u001b[0mdf\u001b[0m\u001b[0;34m[\u001b[0m\u001b[0mcol\u001b[0m\u001b[0;34m]\u001b[0m\u001b[0;34m.\u001b[0m\u001b[0mapply\u001b[0m\u001b[0;34m(\u001b[0m\u001b[0;32mlambda\u001b[0m \u001b[0mx\u001b[0m\u001b[0;34m:\u001b[0m\u001b[0mx\u001b[0m\u001b[0;34m.\u001b[0m\u001b[0msplit\u001b[0m\u001b[0;34m(\u001b[0m\u001b[0;34m'_'\u001b[0m\u001b[0;34m)\u001b[0m\u001b[0;34m[\u001b[0m\u001b[0;36m1\u001b[0m\u001b[0;34m]\u001b[0m\u001b[0;34m)\u001b[0m\u001b[0;34m\u001b[0m\u001b[0m\n\u001b[0m\u001b[1;32m      4\u001b[0m         \u001b[0mdf\u001b[0m\u001b[0;34m[\u001b[0m\u001b[0mcol\u001b[0m\u001b[0;34m]\u001b[0m \u001b[0;34m=\u001b[0m \u001b[0mpd\u001b[0m\u001b[0;34m.\u001b[0m\u001b[0mto_numeric\u001b[0m\u001b[0;34m(\u001b[0m\u001b[0mdf\u001b[0m\u001b[0;34m[\u001b[0m\u001b[0mcol\u001b[0m\u001b[0;34m]\u001b[0m\u001b[0;34m)\u001b[0m\u001b[0;34m.\u001b[0m\u001b[0mastype\u001b[0m\u001b[0;34m(\u001b[0m\u001b[0mint\u001b[0m\u001b[0;34m)\u001b[0m\u001b[0;34m\u001b[0m\u001b[0m\n\u001b[1;32m      5\u001b[0m     \u001b[0;32mfor\u001b[0m \u001b[0mcol\u001b[0m \u001b[0;32min\u001b[0m \u001b[0mcol_space\u001b[0m\u001b[0;34m:\u001b[0m\u001b[0;34m\u001b[0m\u001b[0m\n",
      "\u001b[0;31mAttributeError\u001b[0m: 'int' object has no attribute 'split'"
     ]
    }
   ],
   "source": [
    "cleanup(test)"
   ]
  },
  {
   "cell_type": "code",
   "execution_count": 14,
   "metadata": {
    "collapsed": false
   },
   "outputs": [
    {
     "data": {
      "text/html": [
       "<div>\n",
       "<table border=\"1\" class=\"dataframe\">\n",
       "  <thead>\n",
       "    <tr style=\"text-align: right;\">\n",
       "      <th></th>\n",
       "      <th>people_id</th>\n",
       "      <th>activity_id</th>\n",
       "      <th>activity_category</th>\n",
       "      <th>char_1</th>\n",
       "      <th>group_1</th>\n",
       "      <th>char_2</th>\n",
       "      <th>char_3</th>\n",
       "      <th>char_4</th>\n",
       "      <th>char_5</th>\n",
       "      <th>char_6</th>\n",
       "      <th>...</th>\n",
       "      <th>char_31</th>\n",
       "      <th>char_32</th>\n",
       "      <th>char_33</th>\n",
       "      <th>char_34</th>\n",
       "      <th>char_35</th>\n",
       "      <th>char_36</th>\n",
       "      <th>char_37</th>\n",
       "      <th>char_38</th>\n",
       "      <th>weekday_x</th>\n",
       "      <th>weekday_y</th>\n",
       "    </tr>\n",
       "  </thead>\n",
       "  <tbody>\n",
       "    <tr>\n",
       "      <th>3</th>\n",
       "      <td>100004</td>\n",
       "      <td>249281</td>\n",
       "      <td>1</td>\n",
       "      <td>2</td>\n",
       "      <td>22593</td>\n",
       "      <td>3</td>\n",
       "      <td>40</td>\n",
       "      <td>25</td>\n",
       "      <td>9</td>\n",
       "      <td>4</td>\n",
       "      <td>...</td>\n",
       "      <td>1</td>\n",
       "      <td>1</td>\n",
       "      <td>1</td>\n",
       "      <td>1</td>\n",
       "      <td>1</td>\n",
       "      <td>1</td>\n",
       "      <td>1</td>\n",
       "      <td>76</td>\n",
       "      <td>3</td>\n",
       "      <td>3</td>\n",
       "    </tr>\n",
       "    <tr>\n",
       "      <th>3</th>\n",
       "      <td>100004</td>\n",
       "      <td>230855</td>\n",
       "      <td>5</td>\n",
       "      <td>2</td>\n",
       "      <td>22593</td>\n",
       "      <td>3</td>\n",
       "      <td>40</td>\n",
       "      <td>25</td>\n",
       "      <td>9</td>\n",
       "      <td>4</td>\n",
       "      <td>...</td>\n",
       "      <td>1</td>\n",
       "      <td>1</td>\n",
       "      <td>1</td>\n",
       "      <td>1</td>\n",
       "      <td>1</td>\n",
       "      <td>1</td>\n",
       "      <td>1</td>\n",
       "      <td>76</td>\n",
       "      <td>3</td>\n",
       "      <td>3</td>\n",
       "    </tr>\n",
       "    <tr>\n",
       "      <th>5</th>\n",
       "      <td>10001</td>\n",
       "      <td>240724</td>\n",
       "      <td>1</td>\n",
       "      <td>2</td>\n",
       "      <td>25417</td>\n",
       "      <td>3</td>\n",
       "      <td>6</td>\n",
       "      <td>6</td>\n",
       "      <td>4</td>\n",
       "      <td>1</td>\n",
       "      <td>...</td>\n",
       "      <td>1</td>\n",
       "      <td>1</td>\n",
       "      <td>1</td>\n",
       "      <td>1</td>\n",
       "      <td>1</td>\n",
       "      <td>1</td>\n",
       "      <td>1</td>\n",
       "      <td>90</td>\n",
       "      <td>5</td>\n",
       "      <td>5</td>\n",
       "    </tr>\n",
       "    <tr>\n",
       "      <th>5</th>\n",
       "      <td>10001</td>\n",
       "      <td>83552</td>\n",
       "      <td>1</td>\n",
       "      <td>2</td>\n",
       "      <td>25417</td>\n",
       "      <td>3</td>\n",
       "      <td>6</td>\n",
       "      <td>6</td>\n",
       "      <td>4</td>\n",
       "      <td>1</td>\n",
       "      <td>...</td>\n",
       "      <td>1</td>\n",
       "      <td>1</td>\n",
       "      <td>1</td>\n",
       "      <td>1</td>\n",
       "      <td>1</td>\n",
       "      <td>1</td>\n",
       "      <td>1</td>\n",
       "      <td>90</td>\n",
       "      <td>7</td>\n",
       "      <td>5</td>\n",
       "    </tr>\n",
       "    <tr>\n",
       "      <th>5</th>\n",
       "      <td>10001</td>\n",
       "      <td>1043301</td>\n",
       "      <td>5</td>\n",
       "      <td>2</td>\n",
       "      <td>25417</td>\n",
       "      <td>3</td>\n",
       "      <td>6</td>\n",
       "      <td>6</td>\n",
       "      <td>4</td>\n",
       "      <td>1</td>\n",
       "      <td>...</td>\n",
       "      <td>1</td>\n",
       "      <td>1</td>\n",
       "      <td>1</td>\n",
       "      <td>1</td>\n",
       "      <td>1</td>\n",
       "      <td>1</td>\n",
       "      <td>1</td>\n",
       "      <td>90</td>\n",
       "      <td>6</td>\n",
       "      <td>5</td>\n",
       "    </tr>\n",
       "  </tbody>\n",
       "</table>\n",
       "<p>5 rows × 44 columns</p>\n",
       "</div>"
      ],
      "text/plain": [
       "   people_id  activity_id  activity_category  char_1  group_1  char_2  char_3  \\\n",
       "3     100004       249281                  1       2    22593       3      40   \n",
       "3     100004       230855                  5       2    22593       3      40   \n",
       "5      10001       240724                  1       2    25417       3       6   \n",
       "5      10001        83552                  1       2    25417       3       6   \n",
       "5      10001      1043301                  5       2    25417       3       6   \n",
       "\n",
       "   char_4  char_5  char_6    ...      char_31  char_32  char_33  char_34  \\\n",
       "3      25       9       4    ...            1        1        1        1   \n",
       "3      25       9       4    ...            1        1        1        1   \n",
       "5       6       4       1    ...            1        1        1        1   \n",
       "5       6       4       1    ...            1        1        1        1   \n",
       "5       6       4       1    ...            1        1        1        1   \n",
       "\n",
       "   char_35  char_36  char_37  char_38  weekday_x  weekday_y  \n",
       "3        1        1        1       76          3          3  \n",
       "3        1        1        1       76          3          3  \n",
       "5        1        1        1       90          5          5  \n",
       "5        1        1        1       90          7          5  \n",
       "5        1        1        1       90          6          5  \n",
       "\n",
       "[5 rows x 44 columns]"
      ]
     },
     "execution_count": 14,
     "metadata": {},
     "output_type": "execute_result"
    }
   ],
   "source": [
    "test.to_csv('numerical_test.csv',index = False)\n",
    "test.head()"
   ]
  },
  {
   "cell_type": "code",
   "execution_count": 15,
   "metadata": {
    "collapsed": true
   },
   "outputs": [],
   "source": [
    "import matplotlib.pyplot as plt\n",
    "import seaborn as sns\n",
    "% matplotlib inline"
   ]
  },
  {
   "cell_type": "code",
   "execution_count": 16,
   "metadata": {
    "collapsed": false
   },
   "outputs": [
    {
     "data": {
      "text/plain": [
       "<matplotlib.axes._subplots.AxesSubplot at 0x12a8c9c18>"
      ]
     },
     "execution_count": 16,
     "metadata": {},
     "output_type": "execute_result"
    },
    {
     "data": {
      "image/png": "[encoded data removed]",
      "text/plain": [
       "<matplotlib.figure.Figure at 0x12a8c9358>"
      ]
     },
     "metadata": {},
     "output_type": "display_data"
    }
   ],
   "source": [
    "sns.countplot(train.outcome,hue = train.char_2)"
   ]
  },
  {
   "cell_type": "code",
   "execution_count": 17,
   "metadata": {
    "collapsed": false
   },
   "outputs": [
    {
     "data": {
      "text/plain": [
       "<matplotlib.axes._subplots.AxesSubplot at 0x12b24b6d8>"
      ]
     },
     "execution_count": 17,
     "metadata": {},
     "output_type": "execute_result"
    },
    {
     "data": {
      "image/png": "[encoded data removed]",
      "text/plain": [
       "<matplotlib.figure.Figure at 0x12a8c92e8>"
      ]
     },
     "metadata": {},
     "output_type": "display_data"
    }
   ],
   "source": [
    "sns.countplot(train.outcome,hue = train.weekday_x)"
   ]
  },
  {
   "cell_type": "code",
   "execution_count": 18,
   "metadata": {
    "collapsed": false
   },
   "outputs": [
    {
     "data": {
      "text/plain": [
       "<matplotlib.axes._subplots.AxesSubplot at 0x12b247be0>"
      ]
     },
     "execution_count": 18,
     "metadata": {},
     "output_type": "execute_result"
    },
    {
     "data": {
      "image/png": "[encoded data removed]",
      "text/plain": [
       "<matplotlib.figure.Figure at 0x12b245198>"
      ]
     },
     "metadata": {},
     "output_type": "display_data"
    }
   ],
   "source": [
    "sns.countplot(train.outcome,hue = train.weekday_y)"
   ]
  },
  {
   "cell_type": "code",
   "execution_count": 19,
   "metadata": {
    "collapsed": false
   },
   "outputs": [
    {
     "data": {
      "text/plain": [
       "['activity_id',\n",
       " 'activity_category',\n",
       " 'char_1',\n",
       " 'group_1',\n",
       " 'char_2',\n",
       " 'char_3',\n",
       " 'char_4',\n",
       " 'char_5',\n",
       " 'char_6',\n",
       " 'char_7',\n",
       " 'char_8',\n",
       " 'char_9',\n",
       " 'char_10',\n",
       " 'char_11',\n",
       " 'char_12',\n",
       " 'char_13',\n",
       " 'char_14',\n",
       " 'char_15',\n",
       " 'char_16',\n",
       " 'char_17',\n",
       " 'char_18',\n",
       " 'char_19',\n",
       " 'char_20',\n",
       " 'char_21',\n",
       " 'char_22',\n",
       " 'char_23',\n",
       " 'char_24',\n",
       " 'char_25',\n",
       " 'char_26',\n",
       " 'char_27',\n",
       " 'char_28',\n",
       " 'char_29',\n",
       " 'char_30',\n",
       " 'char_31',\n",
       " 'char_32',\n",
       " 'char_33',\n",
       " 'char_34',\n",
       " 'char_35',\n",
       " 'char_36',\n",
       " 'char_37',\n",
       " 'char_38',\n",
       " 'weekday_x',\n",
       " 'weekday_y']"
      ]
     },
     "execution_count": 19,
     "metadata": {},
     "output_type": "execute_result"
    }
   ],
   "source": [
    "train_col = list(train.columns)\n",
    "train_col.remove('outcome')\n",
    "train_col.remove('people_id')\n",
    "train_col"
   ]
  },
  {
   "cell_type": "code",
   "execution_count": 21,
   "metadata": {
    "collapsed": false
   },
   "outputs": [
    {
     "ename": "NameError",
     "evalue": "name 'labels' is not defined",
     "output_type": "error",
     "traceback": [
      "\u001b[0;31m---------------------------------------------------------------------------\u001b[0m",
      "\u001b[0;31mNameError\u001b[0m                                 Traceback (most recent call last)",
      "\u001b[0;32m<ipython-input-21-5e8cc1b0ef30>\u001b[0m in \u001b[0;36m<module>\u001b[0;34m()\u001b[0m\n\u001b[1;32m      6\u001b[0m \u001b[0mindices\u001b[0m \u001b[0;34m=\u001b[0m \u001b[0mnp\u001b[0m\u001b[0;34m.\u001b[0m\u001b[0margsort\u001b[0m\u001b[0;34m(\u001b[0m\u001b[0mimportances\u001b[0m\u001b[0;34m)\u001b[0m\u001b[0;34m[\u001b[0m\u001b[0;34m:\u001b[0m\u001b[0;34m:\u001b[0m\u001b[0;34m-\u001b[0m\u001b[0;36m1\u001b[0m\u001b[0;34m]\u001b[0m\u001b[0;34m\u001b[0m\u001b[0m\n\u001b[1;32m      7\u001b[0m \u001b[0;32mfor\u001b[0m \u001b[0mf\u001b[0m \u001b[0;32min\u001b[0m \u001b[0mrange\u001b[0m\u001b[0;34m(\u001b[0m\u001b[0mtrain\u001b[0m\u001b[0;34m[\u001b[0m\u001b[0mtrain_col\u001b[0m\u001b[0;34m]\u001b[0m\u001b[0;34m.\u001b[0m\u001b[0mshape\u001b[0m\u001b[0;34m[\u001b[0m\u001b[0;36m1\u001b[0m\u001b[0;34m]\u001b[0m\u001b[0;34m)\u001b[0m\u001b[0;34m:\u001b[0m\u001b[0;34m\u001b[0m\u001b[0m\n\u001b[0;32m----> 8\u001b[0;31m     \u001b[0mprint\u001b[0m\u001b[0;34m(\u001b[0m\u001b[0;34m\"%2d) %-*s %f\"\u001b[0m \u001b[0;34m%\u001b[0m \u001b[0;34m(\u001b[0m\u001b[0mf\u001b[0m \u001b[0;34m+\u001b[0m \u001b[0;36m1\u001b[0m\u001b[0;34m,\u001b[0m \u001b[0;36m30\u001b[0m\u001b[0;34m,\u001b[0m \u001b[0mlabels\u001b[0m\u001b[0;34m[\u001b[0m\u001b[0mf\u001b[0m\u001b[0;34m]\u001b[0m\u001b[0;34m,\u001b[0m \u001b[0mimportance\u001b[0m\u001b[0;34m[\u001b[0m\u001b[0mindices\u001b[0m\u001b[0;34m[\u001b[0m\u001b[0mf\u001b[0m\u001b[0;34m]\u001b[0m\u001b[0;34m]\u001b[0m\u001b[0;34m)\u001b[0m\u001b[0;34m)\u001b[0m\u001b[0;34m\u001b[0m\u001b[0m\n\u001b[0m",
      "\u001b[0;31mNameError\u001b[0m: name 'labels' is not defined"
     ]
    }
   ],
   "source": [
    "from sklearn.ensemble import RandomForestClassifier\n",
    "labels = train.columns[1:]\n",
    "forest = RandomForestClassifier(n_estimators = 1000,random_state= 0,n_jobs = -1)\n",
    "forest.fit(train[train_col],train['outcome'])\n",
    "importances = forest.feature_importances_\n",
    "indices = np.argsort(importances)[::-1]\n",
    "for f in range(train[train_col].shape[1]):\n",
    "    print(\"%2d) %-*s %f\" % (f + 1, 30, labels[f], importance[indices[f]]))"
   ]
  },
  {
   "cell_type": "code",
   "execution_count": 22,
   "metadata": {
    "collapsed": false
   },
   "outputs": [
    {
     "name": "stdout",
     "output_type": "stream",
     "text": [
      " 1) activity_id                    0.044889\n",
      " 2) activity_category              0.016778\n",
      " 3) char_1                         0.014032\n",
      " 4) group_1                        0.177678\n",
      " 5) char_2                         0.108671\n",
      " 6) char_3                         0.023993\n",
      " 7) char_4                         0.023709\n",
      " 8) char_5                         0.020275\n",
      " 9) char_6                         0.030234\n",
      "10) char_7                         0.051219\n",
      "11) char_8                         0.027490\n",
      "12) char_9                         0.021185\n",
      "13) char_10                        0.004281\n",
      "14) char_11                        0.003348\n",
      "15) char_12                        0.003288\n",
      "16) char_13                        0.014766\n",
      "17) char_14                        0.004072\n",
      "18) char_15                        0.003456\n",
      "19) char_16                        0.004742\n",
      "20) char_17                        0.005976\n",
      "21) char_18                        0.003434\n",
      "22) char_19                        0.004276\n",
      "23) char_20                        0.003711\n",
      "24) char_21                        0.003767\n",
      "25) char_22                        0.005430\n",
      "26) char_23                        0.004189\n",
      "27) char_24                        0.002593\n",
      "28) char_25                        0.011539\n",
      "29) char_26                        0.002783\n",
      "30) char_27                        0.003668\n",
      "31) char_28                        0.003015\n",
      "32) char_29                        0.003280\n",
      "33) char_30                        0.002861\n",
      "34) char_31                        0.005277\n",
      "35) char_32                        0.004906\n",
      "36) char_33                        0.003151\n",
      "37) char_34                        0.011773\n",
      "38) char_35                        0.003728\n",
      "39) char_36                        0.010113\n",
      "40) char_37                        0.007240\n",
      "41) char_38                        0.250607\n",
      "42) weekday_x                      0.018506\n",
      "43) weekday_y                      0.026071\n"
     ]
    }
   ],
   "source": [
    "labels = train_col\n",
    "for f in range(train[train_col].shape[1]):\n",
    "    print(\"%2d) %-*s %f\" % (f + 1, 30, labels[f], importances[f]))"
   ]
  },
  {
   "cell_type": "code",
   "execution_count": 23,
   "metadata": {
    "collapsed": false
   },
   "outputs": [],
   "source": [
    "importance =pd.DataFrame()\n",
    "importance['column'] = labels\n",
    "importance['importance'] = importances\n",
    "importance\n",
    "important_feature = importance[importance['importance']>=0.02]"
   ]
  },
  {
   "cell_type": "code",
   "execution_count": 24,
   "metadata": {
    "collapsed": false
   },
   "outputs": [],
   "source": [
    "selected =important_feature['column'].tolist()"
   ]
  },
  {
   "cell_type": "code",
   "execution_count": 25,
   "metadata": {
    "collapsed": false
   },
   "outputs": [],
   "source": [
    "selected.append('outcome')"
   ]
  },
  {
   "cell_type": "code",
   "execution_count": 26,
   "metadata": {
    "collapsed": false
   },
   "outputs": [
    {
     "data": {
      "text/plain": [
       "['activity_id',\n",
       " 'group_1',\n",
       " 'char_2',\n",
       " 'char_3',\n",
       " 'char_4',\n",
       " 'char_5',\n",
       " 'char_6',\n",
       " 'char_7',\n",
       " 'char_8',\n",
       " 'char_9',\n",
       " 'char_38',\n",
       " 'weekday_y',\n",
       " 'outcome']"
      ]
     },
     "execution_count": 26,
     "metadata": {},
     "output_type": "execute_result"
    }
   ],
   "source": [
    "selected"
   ]
  },
  {
   "cell_type": "code",
   "execution_count": 27,
   "metadata": {
    "collapsed": false
   },
   "outputs": [],
   "source": [
    "test['outcome'] = 0\n",
    "selected_train = train[selected]\n",
    "selected_test = test[selected]"
   ]
  },
  {
   "cell_type": "code",
   "execution_count": 28,
   "metadata": {
    "collapsed": false
   },
   "outputs": [],
   "source": [
    "def LeaveOneOut(data1, data2, columnName, useLOO=False):\n",
    "    grpOutcomes = data1.groupby(columnName).mean().reset_index()\n",
    "    outcomes = data2['outcome'].values\n",
    "    x = pd.merge(data2[[columnName, 'outcome']], grpOutcomes,\n",
    "                 suffixes=('x_', ''),\n",
    "                 how='left',\n",
    "                 on=columnName,\n",
    "                 left_index=True)['outcome']\n",
    "    if(useLOO):\n",
    "        x = ((x*x.shape[0])-outcomes)/(x.shape[0]-1)\n",
    "    return x.fillna(x.mean())\n"
   ]
  },
  {
   "cell_type": "code",
   "execution_count": 29,
   "metadata": {
    "collapsed": false
   },
   "outputs": [
    {
     "data": {
      "text/html": [
       "<div>\n",
       "<table border=\"1\" class=\"dataframe\">\n",
       "  <thead>\n",
       "    <tr style=\"text-align: right;\">\n",
       "      <th></th>\n",
       "      <th>activity_id</th>\n",
       "      <th>group_1</th>\n",
       "      <th>char_2</th>\n",
       "      <th>char_3</th>\n",
       "      <th>char_4</th>\n",
       "      <th>char_5</th>\n",
       "      <th>char_6</th>\n",
       "      <th>char_7</th>\n",
       "      <th>char_8</th>\n",
       "      <th>char_9</th>\n",
       "      <th>char_38</th>\n",
       "      <th>weekday_y</th>\n",
       "    </tr>\n",
       "  </thead>\n",
       "  <tbody>\n",
       "    <tr>\n",
       "      <th>0</th>\n",
       "      <td>0.0</td>\n",
       "      <td>0.0</td>\n",
       "      <td>0.0</td>\n",
       "      <td>0.55286</td>\n",
       "      <td>0.553673</td>\n",
       "      <td>0.493344</td>\n",
       "      <td>0.47495</td>\n",
       "      <td>0.616104</td>\n",
       "      <td>0.683161</td>\n",
       "      <td>0.676301</td>\n",
       "      <td>0.0</td>\n",
       "      <td>0.467742</td>\n",
       "    </tr>\n",
       "    <tr>\n",
       "      <th>1</th>\n",
       "      <td>0.0</td>\n",
       "      <td>0.0</td>\n",
       "      <td>0.0</td>\n",
       "      <td>0.55286</td>\n",
       "      <td>0.553673</td>\n",
       "      <td>0.493344</td>\n",
       "      <td>0.47495</td>\n",
       "      <td>0.616104</td>\n",
       "      <td>0.683161</td>\n",
       "      <td>0.676301</td>\n",
       "      <td>0.0</td>\n",
       "      <td>0.467742</td>\n",
       "    </tr>\n",
       "    <tr>\n",
       "      <th>2</th>\n",
       "      <td>0.0</td>\n",
       "      <td>0.0</td>\n",
       "      <td>0.0</td>\n",
       "      <td>0.55286</td>\n",
       "      <td>0.553673</td>\n",
       "      <td>0.493344</td>\n",
       "      <td>0.47495</td>\n",
       "      <td>0.616104</td>\n",
       "      <td>0.683161</td>\n",
       "      <td>0.676301</td>\n",
       "      <td>0.0</td>\n",
       "      <td>0.467742</td>\n",
       "    </tr>\n",
       "    <tr>\n",
       "      <th>3</th>\n",
       "      <td>0.0</td>\n",
       "      <td>0.0</td>\n",
       "      <td>0.0</td>\n",
       "      <td>0.55286</td>\n",
       "      <td>0.553673</td>\n",
       "      <td>0.493344</td>\n",
       "      <td>0.47495</td>\n",
       "      <td>0.616104</td>\n",
       "      <td>0.683161</td>\n",
       "      <td>0.676301</td>\n",
       "      <td>0.0</td>\n",
       "      <td>0.467742</td>\n",
       "    </tr>\n",
       "    <tr>\n",
       "      <th>4</th>\n",
       "      <td>0.0</td>\n",
       "      <td>0.0</td>\n",
       "      <td>0.0</td>\n",
       "      <td>0.55286</td>\n",
       "      <td>0.553673</td>\n",
       "      <td>0.493344</td>\n",
       "      <td>0.47495</td>\n",
       "      <td>0.616104</td>\n",
       "      <td>0.683161</td>\n",
       "      <td>0.676301</td>\n",
       "      <td>0.0</td>\n",
       "      <td>0.467742</td>\n",
       "    </tr>\n",
       "  </tbody>\n",
       "</table>\n",
       "</div>"
      ],
      "text/plain": [
       "   activity_id  group_1  char_2   char_3    char_4    char_5   char_6  \\\n",
       "0          0.0      0.0     0.0  0.55286  0.553673  0.493344  0.47495   \n",
       "1          0.0      0.0     0.0  0.55286  0.553673  0.493344  0.47495   \n",
       "2          0.0      0.0     0.0  0.55286  0.553673  0.493344  0.47495   \n",
       "3          0.0      0.0     0.0  0.55286  0.553673  0.493344  0.47495   \n",
       "4          0.0      0.0     0.0  0.55286  0.553673  0.493344  0.47495   \n",
       "\n",
       "     char_7    char_8    char_9  char_38  weekday_y  \n",
       "0  0.616104  0.683161  0.676301      0.0   0.467742  \n",
       "1  0.616104  0.683161  0.676301      0.0   0.467742  \n",
       "2  0.616104  0.683161  0.676301      0.0   0.467742  \n",
       "3  0.616104  0.683161  0.676301      0.0   0.467742  \n",
       "4  0.616104  0.683161  0.676301      0.0   0.467742  "
      ]
     },
     "execution_count": 29,
     "metadata": {},
     "output_type": "execute_result"
    }
   ],
   "source": [
    "selected_trn = pd.DataFrame()\n",
    "for col in selected_train.columns:\n",
    "    if (col !='outcome' and col !='people_id'):\n",
    "        selected_trn[col] = LeaveOneOut(selected_train,selected_train,col,True).values\n",
    "selected_trn.head()"
   ]
  },
  {
   "cell_type": "code",
   "execution_count": 30,
   "metadata": {
    "collapsed": false
   },
   "outputs": [
    {
     "data": {
      "text/html": [
       "<div>\n",
       "<table border=\"1\" class=\"dataframe\">\n",
       "  <thead>\n",
       "    <tr style=\"text-align: right;\">\n",
       "      <th></th>\n",
       "      <th>activity_id</th>\n",
       "      <th>group_1</th>\n",
       "      <th>char_2</th>\n",
       "      <th>char_3</th>\n",
       "      <th>char_4</th>\n",
       "      <th>char_5</th>\n",
       "      <th>char_6</th>\n",
       "      <th>char_7</th>\n",
       "      <th>char_8</th>\n",
       "      <th>char_9</th>\n",
       "      <th>char_38</th>\n",
       "      <th>weekday_y</th>\n",
       "    </tr>\n",
       "  </thead>\n",
       "  <tbody>\n",
       "    <tr>\n",
       "      <th>0</th>\n",
       "      <td>1.000000</td>\n",
       "      <td>0.0</td>\n",
       "      <td>0.698855</td>\n",
       "      <td>0.359654</td>\n",
       "      <td>0.359654</td>\n",
       "      <td>0.359654</td>\n",
       "      <td>0.281776</td>\n",
       "      <td>0.252974</td>\n",
       "      <td>0.683161</td>\n",
       "      <td>0.676301</td>\n",
       "      <td>0.727121</td>\n",
       "      <td>0.404882</td>\n",
       "    </tr>\n",
       "    <tr>\n",
       "      <th>1</th>\n",
       "      <td>0.445333</td>\n",
       "      <td>0.0</td>\n",
       "      <td>0.698855</td>\n",
       "      <td>0.359654</td>\n",
       "      <td>0.359654</td>\n",
       "      <td>0.359654</td>\n",
       "      <td>0.281776</td>\n",
       "      <td>0.252974</td>\n",
       "      <td>0.683161</td>\n",
       "      <td>0.676301</td>\n",
       "      <td>0.727121</td>\n",
       "      <td>0.404882</td>\n",
       "    </tr>\n",
       "    <tr>\n",
       "      <th>2</th>\n",
       "      <td>0.000000</td>\n",
       "      <td>1.0</td>\n",
       "      <td>0.698855</td>\n",
       "      <td>0.487684</td>\n",
       "      <td>0.470620</td>\n",
       "      <td>0.520485</td>\n",
       "      <td>0.607917</td>\n",
       "      <td>0.554140</td>\n",
       "      <td>0.683161</td>\n",
       "      <td>0.676301</td>\n",
       "      <td>0.796851</td>\n",
       "      <td>0.504729</td>\n",
       "    </tr>\n",
       "    <tr>\n",
       "      <th>3</th>\n",
       "      <td>0.000000</td>\n",
       "      <td>1.0</td>\n",
       "      <td>0.698855</td>\n",
       "      <td>0.487684</td>\n",
       "      <td>0.470620</td>\n",
       "      <td>0.520485</td>\n",
       "      <td>0.607917</td>\n",
       "      <td>0.554140</td>\n",
       "      <td>0.683161</td>\n",
       "      <td>0.676301</td>\n",
       "      <td>0.796851</td>\n",
       "      <td>0.504729</td>\n",
       "    </tr>\n",
       "    <tr>\n",
       "      <th>4</th>\n",
       "      <td>0.445333</td>\n",
       "      <td>1.0</td>\n",
       "      <td>0.698855</td>\n",
       "      <td>0.487684</td>\n",
       "      <td>0.470620</td>\n",
       "      <td>0.520485</td>\n",
       "      <td>0.607917</td>\n",
       "      <td>0.554140</td>\n",
       "      <td>0.683161</td>\n",
       "      <td>0.676301</td>\n",
       "      <td>0.796851</td>\n",
       "      <td>0.504729</td>\n",
       "    </tr>\n",
       "  </tbody>\n",
       "</table>\n",
       "</div>"
      ],
      "text/plain": [
       "   activity_id  group_1    char_2    char_3    char_4    char_5    char_6  \\\n",
       "0     1.000000      0.0  0.698855  0.359654  0.359654  0.359654  0.281776   \n",
       "1     0.445333      0.0  0.698855  0.359654  0.359654  0.359654  0.281776   \n",
       "2     0.000000      1.0  0.698855  0.487684  0.470620  0.520485  0.607917   \n",
       "3     0.000000      1.0  0.698855  0.487684  0.470620  0.520485  0.607917   \n",
       "4     0.445333      1.0  0.698855  0.487684  0.470620  0.520485  0.607917   \n",
       "\n",
       "     char_7    char_8    char_9   char_38  weekday_y  \n",
       "0  0.252974  0.683161  0.676301  0.727121   0.404882  \n",
       "1  0.252974  0.683161  0.676301  0.727121   0.404882  \n",
       "2  0.554140  0.683161  0.676301  0.796851   0.504729  \n",
       "3  0.554140  0.683161  0.676301  0.796851   0.504729  \n",
       "4  0.554140  0.683161  0.676301  0.796851   0.504729  "
      ]
     },
     "execution_count": 30,
     "metadata": {},
     "output_type": "execute_result"
    }
   ],
   "source": [
    "selected_tst = pd.DataFrame()\n",
    "for col in selected_train.columns:\n",
    "    if (col !='outcome' and col !='people_id'):\n",
    "        selected_tst[col] = LeaveOneOut(selected_train,selected_test,col,False).values\n",
    "selected_tst.head()"
   ]
  },
  {
   "cell_type": "code",
   "execution_count": 137,
   "metadata": {
    "collapsed": true
   },
   "outputs": [],
   "source": [
    "forest2 = RandomForestClassifier(n_estimators = 1000,random_state= 0,n_jobs = -1)\n",
    "forest2.fit(selected_trn,train['outcome'])\n",
    "importances2 = forest2.feature_importances_"
   ]
  },
  {
   "cell_type": "code",
   "execution_count": 138,
   "metadata": {
    "collapsed": false
   },
   "outputs": [
    {
     "data": {
      "text/plain": [
       "array([ 0.3776547 ,  0.28306853,  0.14571823,  0.00166817,  0.0061136 ,\n",
       "        0.01847674,  0.01160705,  0.00041342,  0.02680791,  0.02186585,\n",
       "        0.10082818,  0.00577761])"
      ]
     },
     "execution_count": 138,
     "metadata": {},
     "output_type": "execute_result"
    }
   ],
   "source": [
    "importances2"
   ]
  },
  {
   "cell_type": "code",
   "execution_count": 31,
   "metadata": {
    "collapsed": true
   },
   "outputs": [],
   "source": [
    "from sklearn.cross_validation import train_test_split\n",
    "#X_train,X_test,y_train,y_test = train_test_split(train,target,test_size = 0.2,random_state = 1)\n",
    "from sklearn.metrics import accuracy_score,roc_auc_score\n",
    "import xgboost as xgb\n",
    "from xgboost.sklearn import XGBClassifier"
   ]
  },
  {
   "cell_type": "code",
   "execution_count": 140,
   "metadata": {
    "collapsed": true
   },
   "outputs": [],
   "source": [
    "xgb1 = XGBClassifier()\n",
    "xgb1 = xgb1.fit(selected_trn,train['outcome'],eval_metric = 'auc')"
   ]
  },
  {
   "cell_type": "code",
   "execution_count": 142,
   "metadata": {
    "collapsed": false
   },
   "outputs": [],
   "source": [
    "xgb1_test = xgb1.predict_proba(selected_tst)"
   ]
  },
  {
   "cell_type": "code",
   "execution_count": 144,
   "metadata": {
    "collapsed": true
   },
   "outputs": [],
   "source": [
    "xgb1_selected_test = pd.DataFrame({'activity_id':sub_id,'outcome':xgb1_test[:,1]})\n",
    "xgb1_selected_test.to_csv('xgb1_selected_test.csv',index = False)"
   ]
  },
  {
   "cell_type": "code",
   "execution_count": 35,
   "metadata": {
    "collapsed": true
   },
   "outputs": [],
   "source": [
    "dtrain = xgb.DMatrix(selected_trn,train.outcome)\n",
    "dtest = xgb.DMatrix(selected_tst)\n",
    "param = {'max_depth':2, 'eta':1,'silent':1,'objective':'binary:logistic','eval_metric':'auc'}\n",
    "num_round = 200\n",
    "bst1 = xgb.train(param,dtrain,num_round)\n",
    "preds = bst1.predict(dtest)"
   ]
  },
  {
   "cell_type": "code",
   "execution_count": 39,
   "metadata": {
    "collapsed": false
   },
   "outputs": [],
   "source": [
    "bst1_sub = pd.DataFrame({'activity_id':sub_id,'outcome':(1 - preds)})\n",
    "bst1_sub.to_csv('bst1_sub.csv', index = False)"
   ]
  },
  {
   "cell_type": "code",
   "execution_count": 40,
   "metadata": {
    "collapsed": true
   },
   "outputs": [],
   "source": [
    "param2 = {'max_depth':9,'min_child_weight':3, 'eta':0.01,'gamma':0.3,'subsample':0.8,'colsample_bytree':0.9,'alpha':1e-05,'silent':1,'objective':'binary:logistic','eval_metric':'auc'}\n",
    "num_round = 2000\n",
    "bst2 = xgb.train(param2,dtrain,num_round)\n",
    "pred2 = bst2.predict(dtest)"
   ]
  },
  {
   "cell_type": "code",
   "execution_count": 41,
   "metadata": {
    "collapsed": true
   },
   "outputs": [],
   "source": [
    "bst2_sub = pd.DataFrame({'activity_id':sub_id,'outcome':(1 - pred2)})\n",
    "bst2_sub.to_csv('bst2_sub.csv', index = False)"
   ]
  },
  {
   "cell_type": "code",
   "execution_count": null,
   "metadata": {
    "collapsed": true
   },
   "outputs": [],
   "source": []
  }
 ],
 "metadata": {
  "anaconda-cloud": {},
  "kernelspec": {
   "display_name": "Python [Root]",
   "language": "python",
   "name": "Python [Root]"
  },
  "language_info": {
   "codemirror_mode": {
    "name": "ipython",
    "version": 3
   },
   "file_extension": ".py",
   "mimetype": "text/x-python",
   "name": "python",
   "nbconvert_exporter": "python",
   "pygments_lexer": "ipython3",
   "version": "3.5.2"
  }
 },
 "nbformat": 4,
 "nbformat_minor": 0
}
