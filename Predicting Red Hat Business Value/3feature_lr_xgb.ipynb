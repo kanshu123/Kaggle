{
 "cells": [
  {
   "cell_type": "code",
   "execution_count": 84,
   "metadata": {
    "collapsed": true
   },
   "outputs": [],
   "source": [
    "import pandas as pd\n",
    "import numpy as np\n",
    "act_train = pd.read_csv('act_train.csv')\n",
    "act_test = pd.read_csv('act_test.csv')\n",
    "people = pd.read_csv('people.csv')"
   ]
  },
  {
   "cell_type": "code",
   "execution_count": 18,
   "metadata": {
    "collapsed": false
   },
   "outputs": [],
   "source": [
    "act_train['people_id'] = act_train['people_id'].apply(lambda x: x.split('_')[1])\n",
    "people['people_id'] = people['people_id'].apply(lambda x: x.split('_')[1])\n",
    "people['group_1'] = people['group_1'].apply(lambda x:x.split(' ')[1])\n",
    "people['char_2'] = people['char_2'].apply(lambda x: x.split(' ')[1])"
   ]
  },
  {
   "cell_type": "code",
   "execution_count": 85,
   "metadata": {
    "collapsed": false
   },
   "outputs": [
    {
     "data": {
      "text/html": [
       "<div>\n",
       "<table border=\"1\" class=\"dataframe\">\n",
       "  <thead>\n",
       "    <tr style=\"text-align: right;\">\n",
       "      <th></th>\n",
       "      <th>people_id</th>\n",
       "      <th>outcome</th>\n",
       "      <th>group_1</th>\n",
       "      <th>char_2</th>\n",
       "      <th>char_38</th>\n",
       "    </tr>\n",
       "  </thead>\n",
       "  <tbody>\n",
       "    <tr>\n",
       "      <th>0</th>\n",
       "      <td>ppl_100</td>\n",
       "      <td>0</td>\n",
       "      <td>group 17304</td>\n",
       "      <td>type 2</td>\n",
       "      <td>36</td>\n",
       "    </tr>\n",
       "    <tr>\n",
       "      <th>0</th>\n",
       "      <td>ppl_100</td>\n",
       "      <td>0</td>\n",
       "      <td>group 17304</td>\n",
       "      <td>type 2</td>\n",
       "      <td>36</td>\n",
       "    </tr>\n",
       "    <tr>\n",
       "      <th>0</th>\n",
       "      <td>ppl_100</td>\n",
       "      <td>0</td>\n",
       "      <td>group 17304</td>\n",
       "      <td>type 2</td>\n",
       "      <td>36</td>\n",
       "    </tr>\n",
       "    <tr>\n",
       "      <th>0</th>\n",
       "      <td>ppl_100</td>\n",
       "      <td>0</td>\n",
       "      <td>group 17304</td>\n",
       "      <td>type 2</td>\n",
       "      <td>36</td>\n",
       "    </tr>\n",
       "    <tr>\n",
       "      <th>0</th>\n",
       "      <td>ppl_100</td>\n",
       "      <td>0</td>\n",
       "      <td>group 17304</td>\n",
       "      <td>type 2</td>\n",
       "      <td>36</td>\n",
       "    </tr>\n",
       "  </tbody>\n",
       "</table>\n",
       "</div>"
      ],
      "text/plain": [
       "  people_id  outcome      group_1  char_2  char_38\n",
       "0   ppl_100        0  group 17304  type 2       36\n",
       "0   ppl_100        0  group 17304  type 2       36\n",
       "0   ppl_100        0  group 17304  type 2       36\n",
       "0   ppl_100        0  group 17304  type 2       36\n",
       "0   ppl_100        0  group 17304  type 2       36"
      ]
     },
     "execution_count": 85,
     "metadata": {},
     "output_type": "execute_result"
    }
   ],
   "source": [
    "act_train_lr = act_train[['people_id','outcome']]\n",
    "people_lr = people[['people_id','group_1','char_2','char_38']]\n",
    "train = pd.merge(act_train_lr,people_lr,how = 'left',on = 'people_id',left_index = True)\n",
    "train.fillna('-999',inplace=True)\n",
    "train.head()"
   ]
  },
  {
   "cell_type": "code",
   "execution_count": 70,
   "metadata": {
    "collapsed": true
   },
   "outputs": [],
   "source": [
    "train.fillna('-999',inplace = True)"
   ]
  },
  {
   "cell_type": "code",
   "execution_count": 21,
   "metadata": {
    "collapsed": false
   },
   "outputs": [
    {
     "name": "stderr",
     "output_type": "stream",
     "text": [
      "//anaconda/lib/python3.5/site-packages/sklearn/utils/validation.py:515: DataConversionWarning: A column-vector y was passed when a 1d array was expected. Please change the shape of y to (n_samples, ), for example using ravel().\n",
      "  y = column_or_1d(y, warn=True)\n"
     ]
    }
   ],
   "source": [
    "from sklearn.linear_model import LogisticRegression\n",
    "from sklearn.metrics import roc_auc_score\n",
    "lr = LogisticRegression(C=100000.0)\n",
    "lr = lr.fit(train[['group_1','char_2','char_38']],act_train[['outcome']])"
   ]
  },
  {
   "cell_type": "code",
   "execution_count": 22,
   "metadata": {
    "collapsed": false
   },
   "outputs": [
    {
     "data": {
      "text/plain": [
       "0.88981033649732777"
      ]
     },
     "execution_count": 22,
     "metadata": {},
     "output_type": "execute_result"
    }
   ],
   "source": [
    "lr_train = lr.predict_proba(train[['group_1','char_2','char_38']])[:,1]\n",
    "roc_auc_score(train.outcome,lr_train)"
   ]
  },
  {
   "cell_type": "code",
   "execution_count": 88,
   "metadata": {
    "collapsed": false
   },
   "outputs": [
    {
     "data": {
      "text/html": [
       "<div>\n",
       "<table border=\"1\" class=\"dataframe\">\n",
       "  <thead>\n",
       "    <tr style=\"text-align: right;\">\n",
       "      <th></th>\n",
       "      <th>people_id</th>\n",
       "      <th>group_1</th>\n",
       "      <th>char_2</th>\n",
       "      <th>char_38</th>\n",
       "      <th>outcome</th>\n",
       "    </tr>\n",
       "  </thead>\n",
       "  <tbody>\n",
       "    <tr>\n",
       "      <th>3</th>\n",
       "      <td>ppl_100004</td>\n",
       "      <td>group 22593</td>\n",
       "      <td>type 3</td>\n",
       "      <td>76</td>\n",
       "      <td>0</td>\n",
       "    </tr>\n",
       "    <tr>\n",
       "      <th>3</th>\n",
       "      <td>ppl_100004</td>\n",
       "      <td>group 22593</td>\n",
       "      <td>type 3</td>\n",
       "      <td>76</td>\n",
       "      <td>0</td>\n",
       "    </tr>\n",
       "    <tr>\n",
       "      <th>5</th>\n",
       "      <td>ppl_10001</td>\n",
       "      <td>group 25417</td>\n",
       "      <td>type 3</td>\n",
       "      <td>90</td>\n",
       "      <td>0</td>\n",
       "    </tr>\n",
       "    <tr>\n",
       "      <th>5</th>\n",
       "      <td>ppl_10001</td>\n",
       "      <td>group 25417</td>\n",
       "      <td>type 3</td>\n",
       "      <td>90</td>\n",
       "      <td>0</td>\n",
       "    </tr>\n",
       "    <tr>\n",
       "      <th>5</th>\n",
       "      <td>ppl_10001</td>\n",
       "      <td>group 25417</td>\n",
       "      <td>type 3</td>\n",
       "      <td>90</td>\n",
       "      <td>0</td>\n",
       "    </tr>\n",
       "  </tbody>\n",
       "</table>\n",
       "</div>"
      ],
      "text/plain": [
       "    people_id      group_1  char_2  char_38  outcome\n",
       "3  ppl_100004  group 22593  type 3       76        0\n",
       "3  ppl_100004  group 22593  type 3       76        0\n",
       "5   ppl_10001  group 25417  type 3       90        0\n",
       "5   ppl_10001  group 25417  type 3       90        0\n",
       "5   ppl_10001  group 25417  type 3       90        0"
      ]
     },
     "execution_count": 88,
     "metadata": {},
     "output_type": "execute_result"
    }
   ],
   "source": [
    "test_lr = act_test[['activity_id','people_id']]\n",
    "#test_lr['people_id'] = test_lr['people_id'].apply(lambda x: x.split('_')[1])\n",
    "test_lr = pd.merge(test_lr,people_lr,how = 'left', on ='people_id',left_index = True)\n",
    "test_lr.fillna('-999',inplace = True)\n",
    "activity_id = test_lr.activity_id.values\n",
    "test_lr.drop('activity_id',inplace = True, axis = 1) \n",
    "test_lr['outcome'] = 0\n",
    "test_lr.head()"
   ]
  },
  {
   "cell_type": "code",
   "execution_count": 30,
   "metadata": {
    "collapsed": false
   },
   "outputs": [],
   "source": [
    "lr_test = lr.predict_proba(test_lr[['group_1','char_2','char_38']])[:,1]\n",
    "lr_test_submission = pd.DataFrame({'activity_id': act_test['activity_id'],'outcome':lr_test})\n"
   ]
  },
  {
   "cell_type": "code",
   "execution_count": 31,
   "metadata": {
    "collapsed": true
   },
   "outputs": [],
   "source": [
    "lr_test_submission.to_csv('selected_lr.csv',index = False)"
   ]
  },
  {
   "cell_type": "code",
   "execution_count": 53,
   "metadata": {
    "collapsed": false
   },
   "outputs": [],
   "source": [
    "train_group = train.groupby(['group_1']).mean().reset_index()\n",
    "train_group_outcomes = train['outcome'].values\n",
    "x = pd.merge(train[['group_1','outcome']],train_group,suffixes = ('x_',''),how = 'left',on = ['group_1'],left_index = True)\n",
    "x = x['outcome']"
   ]
  },
  {
   "cell_type": "code",
   "execution_count": 59,
   "metadata": {
    "collapsed": true
   },
   "outputs": [
    {
     "data": {
      "text/plain": [
       "4691     0.0\n",
       "4691     0.0\n",
       "4691     0.0\n",
       "4691     0.0\n",
       "4691     0.0\n",
       "4691     0.0\n",
       "28979    1.0\n",
       "28979    1.0\n",
       "15962    1.0\n",
       "15962    1.0\n",
       "15962    1.0\n",
       "15962    1.0\n",
       "15962    1.0\n",
       "15962    1.0\n",
       "15962    1.0\n",
       "15962    1.0\n",
       "15962    1.0\n",
       "15962    1.0\n",
       "15962    1.0\n",
       "15962    1.0\n",
       "15962    1.0\n",
       "15962    1.0\n",
       "15962    1.0\n",
       "15962    1.0\n",
       "15962    1.0\n",
       "15962    1.0\n",
       "15962    1.0\n",
       "15962    1.0\n",
       "15962    1.0\n",
       "15962    1.0\n",
       "        ... \n",
       "5064     1.0\n",
       "5064     1.0\n",
       "5064     1.0\n",
       "5064     1.0\n",
       "5064     1.0\n",
       "5064     1.0\n",
       "5064     1.0\n",
       "5064     1.0\n",
       "5064     1.0\n",
       "5064     1.0\n",
       "5064     1.0\n",
       "5064     1.0\n",
       "5064     1.0\n",
       "5064     1.0\n",
       "5064     1.0\n",
       "5064     1.0\n",
       "5064     1.0\n",
       "5064     1.0\n",
       "5064     1.0\n",
       "5064     1.0\n",
       "5064     1.0\n",
       "5064     1.0\n",
       "5064     1.0\n",
       "5064     1.0\n",
       "5064     1.0\n",
       "5064     1.0\n",
       "5064     1.0\n",
       "5064     1.0\n",
       "5064     1.0\n",
       "5064     1.0\n",
       "Name: outcome, dtype: float64"
      ]
     },
     "execution_count": 59,
     "metadata": {},
     "output_type": "execute_result"
    }
   ],
   "source": [
    "x = ((x*x.shape[0]-train_group_outcomes)/(x.shape[0]-1))\n",
    "x.fillna(x.mean())"
   ]
  },
  {
   "cell_type": "code",
   "execution_count": 86,
   "metadata": {
    "collapsed": true
   },
   "outputs": [],
   "source": [
    "def LeaveOneOut(data1, data2, columnName, useLOO=False):\n",
    "    grpOutcomes = data1.groupby(columnName).mean().reset_index()\n",
    "    outcomes = data2['outcome'].values\n",
    "    x = pd.merge(data2[[columnName, 'outcome']], grpOutcomes,\n",
    "                 suffixes=('x_', ''),\n",
    "                 how='left',\n",
    "                 on=columnName,\n",
    "                 left_index=True)['outcome']\n",
    "    if(useLOO):\n",
    "        x = ((x*x.shape[0])-outcomes)/(x.shape[0]-1)\n",
    "    return x.fillna(x.mean())"
   ]
  },
  {
   "cell_type": "code",
   "execution_count": 87,
   "metadata": {
    "collapsed": false,
    "scrolled": true
   },
   "outputs": [
    {
     "data": {
      "text/html": [
       "<div>\n",
       "<table border=\"1\" class=\"dataframe\">\n",
       "  <thead>\n",
       "    <tr style=\"text-align: right;\">\n",
       "      <th></th>\n",
       "      <th>group_1</th>\n",
       "      <th>char_2</th>\n",
       "      <th>char_38</th>\n",
       "    </tr>\n",
       "  </thead>\n",
       "  <tbody>\n",
       "    <tr>\n",
       "      <th>0</th>\n",
       "      <td>0.0</td>\n",
       "      <td>0.000000</td>\n",
       "      <td>0.000000</td>\n",
       "    </tr>\n",
       "    <tr>\n",
       "      <th>1</th>\n",
       "      <td>0.0</td>\n",
       "      <td>0.000000</td>\n",
       "      <td>0.000000</td>\n",
       "    </tr>\n",
       "    <tr>\n",
       "      <th>2</th>\n",
       "      <td>0.0</td>\n",
       "      <td>0.000000</td>\n",
       "      <td>0.000000</td>\n",
       "    </tr>\n",
       "    <tr>\n",
       "      <th>3</th>\n",
       "      <td>0.0</td>\n",
       "      <td>0.000000</td>\n",
       "      <td>0.000000</td>\n",
       "    </tr>\n",
       "    <tr>\n",
       "      <th>4</th>\n",
       "      <td>0.0</td>\n",
       "      <td>0.000000</td>\n",
       "      <td>0.000000</td>\n",
       "    </tr>\n",
       "    <tr>\n",
       "      <th>5</th>\n",
       "      <td>0.0</td>\n",
       "      <td>0.000000</td>\n",
       "      <td>0.000000</td>\n",
       "    </tr>\n",
       "    <tr>\n",
       "      <th>6</th>\n",
       "      <td>1.0</td>\n",
       "      <td>0.698855</td>\n",
       "      <td>0.727121</td>\n",
       "    </tr>\n",
       "    <tr>\n",
       "      <th>7</th>\n",
       "      <td>1.0</td>\n",
       "      <td>0.698855</td>\n",
       "      <td>0.727121</td>\n",
       "    </tr>\n",
       "    <tr>\n",
       "      <th>8</th>\n",
       "      <td>1.0</td>\n",
       "      <td>0.698855</td>\n",
       "      <td>0.731619</td>\n",
       "    </tr>\n",
       "    <tr>\n",
       "      <th>9</th>\n",
       "      <td>1.0</td>\n",
       "      <td>0.698855</td>\n",
       "      <td>0.731619</td>\n",
       "    </tr>\n",
       "    <tr>\n",
       "      <th>10</th>\n",
       "      <td>1.0</td>\n",
       "      <td>0.698855</td>\n",
       "      <td>0.731619</td>\n",
       "    </tr>\n",
       "    <tr>\n",
       "      <th>11</th>\n",
       "      <td>1.0</td>\n",
       "      <td>0.698855</td>\n",
       "      <td>0.731619</td>\n",
       "    </tr>\n",
       "    <tr>\n",
       "      <th>12</th>\n",
       "      <td>1.0</td>\n",
       "      <td>0.698855</td>\n",
       "      <td>0.731619</td>\n",
       "    </tr>\n",
       "    <tr>\n",
       "      <th>13</th>\n",
       "      <td>1.0</td>\n",
       "      <td>0.698855</td>\n",
       "      <td>0.731619</td>\n",
       "    </tr>\n",
       "    <tr>\n",
       "      <th>14</th>\n",
       "      <td>1.0</td>\n",
       "      <td>0.698855</td>\n",
       "      <td>0.731619</td>\n",
       "    </tr>\n",
       "    <tr>\n",
       "      <th>15</th>\n",
       "      <td>1.0</td>\n",
       "      <td>0.698855</td>\n",
       "      <td>0.731619</td>\n",
       "    </tr>\n",
       "    <tr>\n",
       "      <th>16</th>\n",
       "      <td>1.0</td>\n",
       "      <td>0.698855</td>\n",
       "      <td>0.731619</td>\n",
       "    </tr>\n",
       "    <tr>\n",
       "      <th>17</th>\n",
       "      <td>1.0</td>\n",
       "      <td>0.698855</td>\n",
       "      <td>0.731619</td>\n",
       "    </tr>\n",
       "    <tr>\n",
       "      <th>18</th>\n",
       "      <td>1.0</td>\n",
       "      <td>0.698855</td>\n",
       "      <td>0.731619</td>\n",
       "    </tr>\n",
       "    <tr>\n",
       "      <th>19</th>\n",
       "      <td>1.0</td>\n",
       "      <td>0.698855</td>\n",
       "      <td>0.731619</td>\n",
       "    </tr>\n",
       "    <tr>\n",
       "      <th>20</th>\n",
       "      <td>1.0</td>\n",
       "      <td>0.698855</td>\n",
       "      <td>0.731619</td>\n",
       "    </tr>\n",
       "    <tr>\n",
       "      <th>21</th>\n",
       "      <td>1.0</td>\n",
       "      <td>0.698855</td>\n",
       "      <td>0.731619</td>\n",
       "    </tr>\n",
       "    <tr>\n",
       "      <th>22</th>\n",
       "      <td>1.0</td>\n",
       "      <td>0.698855</td>\n",
       "      <td>0.731619</td>\n",
       "    </tr>\n",
       "    <tr>\n",
       "      <th>23</th>\n",
       "      <td>1.0</td>\n",
       "      <td>0.698855</td>\n",
       "      <td>0.731619</td>\n",
       "    </tr>\n",
       "    <tr>\n",
       "      <th>24</th>\n",
       "      <td>1.0</td>\n",
       "      <td>0.698855</td>\n",
       "      <td>0.731619</td>\n",
       "    </tr>\n",
       "    <tr>\n",
       "      <th>25</th>\n",
       "      <td>1.0</td>\n",
       "      <td>0.698855</td>\n",
       "      <td>0.731619</td>\n",
       "    </tr>\n",
       "    <tr>\n",
       "      <th>26</th>\n",
       "      <td>1.0</td>\n",
       "      <td>0.698855</td>\n",
       "      <td>0.731619</td>\n",
       "    </tr>\n",
       "    <tr>\n",
       "      <th>27</th>\n",
       "      <td>1.0</td>\n",
       "      <td>0.698855</td>\n",
       "      <td>0.731619</td>\n",
       "    </tr>\n",
       "    <tr>\n",
       "      <th>28</th>\n",
       "      <td>1.0</td>\n",
       "      <td>0.698855</td>\n",
       "      <td>0.731619</td>\n",
       "    </tr>\n",
       "    <tr>\n",
       "      <th>29</th>\n",
       "      <td>1.0</td>\n",
       "      <td>0.698855</td>\n",
       "      <td>0.731619</td>\n",
       "    </tr>\n",
       "    <tr>\n",
       "      <th>...</th>\n",
       "      <td>...</td>\n",
       "      <td>...</td>\n",
       "      <td>...</td>\n",
       "    </tr>\n",
       "    <tr>\n",
       "      <th>2197261</th>\n",
       "      <td>1.0</td>\n",
       "      <td>0.698855</td>\n",
       "      <td>0.819942</td>\n",
       "    </tr>\n",
       "    <tr>\n",
       "      <th>2197262</th>\n",
       "      <td>1.0</td>\n",
       "      <td>0.698855</td>\n",
       "      <td>0.819942</td>\n",
       "    </tr>\n",
       "    <tr>\n",
       "      <th>2197263</th>\n",
       "      <td>1.0</td>\n",
       "      <td>0.698855</td>\n",
       "      <td>0.819942</td>\n",
       "    </tr>\n",
       "    <tr>\n",
       "      <th>2197264</th>\n",
       "      <td>1.0</td>\n",
       "      <td>0.698855</td>\n",
       "      <td>0.819942</td>\n",
       "    </tr>\n",
       "    <tr>\n",
       "      <th>2197265</th>\n",
       "      <td>1.0</td>\n",
       "      <td>0.698855</td>\n",
       "      <td>0.819942</td>\n",
       "    </tr>\n",
       "    <tr>\n",
       "      <th>2197266</th>\n",
       "      <td>1.0</td>\n",
       "      <td>0.698855</td>\n",
       "      <td>0.819942</td>\n",
       "    </tr>\n",
       "    <tr>\n",
       "      <th>2197267</th>\n",
       "      <td>1.0</td>\n",
       "      <td>0.698855</td>\n",
       "      <td>0.819942</td>\n",
       "    </tr>\n",
       "    <tr>\n",
       "      <th>2197268</th>\n",
       "      <td>1.0</td>\n",
       "      <td>0.698855</td>\n",
       "      <td>0.819942</td>\n",
       "    </tr>\n",
       "    <tr>\n",
       "      <th>2197269</th>\n",
       "      <td>1.0</td>\n",
       "      <td>0.698855</td>\n",
       "      <td>0.819942</td>\n",
       "    </tr>\n",
       "    <tr>\n",
       "      <th>2197270</th>\n",
       "      <td>1.0</td>\n",
       "      <td>0.698855</td>\n",
       "      <td>0.819942</td>\n",
       "    </tr>\n",
       "    <tr>\n",
       "      <th>2197271</th>\n",
       "      <td>1.0</td>\n",
       "      <td>0.698855</td>\n",
       "      <td>0.819942</td>\n",
       "    </tr>\n",
       "    <tr>\n",
       "      <th>2197272</th>\n",
       "      <td>1.0</td>\n",
       "      <td>0.698855</td>\n",
       "      <td>0.819942</td>\n",
       "    </tr>\n",
       "    <tr>\n",
       "      <th>2197273</th>\n",
       "      <td>1.0</td>\n",
       "      <td>0.698855</td>\n",
       "      <td>0.819942</td>\n",
       "    </tr>\n",
       "    <tr>\n",
       "      <th>2197274</th>\n",
       "      <td>1.0</td>\n",
       "      <td>0.698855</td>\n",
       "      <td>0.819942</td>\n",
       "    </tr>\n",
       "    <tr>\n",
       "      <th>2197275</th>\n",
       "      <td>1.0</td>\n",
       "      <td>0.698855</td>\n",
       "      <td>0.819942</td>\n",
       "    </tr>\n",
       "    <tr>\n",
       "      <th>2197276</th>\n",
       "      <td>1.0</td>\n",
       "      <td>0.698855</td>\n",
       "      <td>0.819942</td>\n",
       "    </tr>\n",
       "    <tr>\n",
       "      <th>2197277</th>\n",
       "      <td>1.0</td>\n",
       "      <td>0.698855</td>\n",
       "      <td>0.819942</td>\n",
       "    </tr>\n",
       "    <tr>\n",
       "      <th>2197278</th>\n",
       "      <td>1.0</td>\n",
       "      <td>0.698855</td>\n",
       "      <td>0.819942</td>\n",
       "    </tr>\n",
       "    <tr>\n",
       "      <th>2197279</th>\n",
       "      <td>1.0</td>\n",
       "      <td>0.698855</td>\n",
       "      <td>0.819942</td>\n",
       "    </tr>\n",
       "    <tr>\n",
       "      <th>2197280</th>\n",
       "      <td>1.0</td>\n",
       "      <td>0.698855</td>\n",
       "      <td>0.819942</td>\n",
       "    </tr>\n",
       "    <tr>\n",
       "      <th>2197281</th>\n",
       "      <td>1.0</td>\n",
       "      <td>0.698855</td>\n",
       "      <td>0.819942</td>\n",
       "    </tr>\n",
       "    <tr>\n",
       "      <th>2197282</th>\n",
       "      <td>1.0</td>\n",
       "      <td>0.698855</td>\n",
       "      <td>0.819942</td>\n",
       "    </tr>\n",
       "    <tr>\n",
       "      <th>2197283</th>\n",
       "      <td>1.0</td>\n",
       "      <td>0.698855</td>\n",
       "      <td>0.819942</td>\n",
       "    </tr>\n",
       "    <tr>\n",
       "      <th>2197284</th>\n",
       "      <td>1.0</td>\n",
       "      <td>0.698855</td>\n",
       "      <td>0.819942</td>\n",
       "    </tr>\n",
       "    <tr>\n",
       "      <th>2197285</th>\n",
       "      <td>1.0</td>\n",
       "      <td>0.698855</td>\n",
       "      <td>0.819942</td>\n",
       "    </tr>\n",
       "    <tr>\n",
       "      <th>2197286</th>\n",
       "      <td>1.0</td>\n",
       "      <td>0.698855</td>\n",
       "      <td>0.819942</td>\n",
       "    </tr>\n",
       "    <tr>\n",
       "      <th>2197287</th>\n",
       "      <td>1.0</td>\n",
       "      <td>0.698855</td>\n",
       "      <td>0.819942</td>\n",
       "    </tr>\n",
       "    <tr>\n",
       "      <th>2197288</th>\n",
       "      <td>1.0</td>\n",
       "      <td>0.698855</td>\n",
       "      <td>0.819942</td>\n",
       "    </tr>\n",
       "    <tr>\n",
       "      <th>2197289</th>\n",
       "      <td>1.0</td>\n",
       "      <td>0.698855</td>\n",
       "      <td>0.819942</td>\n",
       "    </tr>\n",
       "    <tr>\n",
       "      <th>2197290</th>\n",
       "      <td>1.0</td>\n",
       "      <td>0.698855</td>\n",
       "      <td>0.819942</td>\n",
       "    </tr>\n",
       "  </tbody>\n",
       "</table>\n",
       "<p>2197291 rows × 3 columns</p>\n",
       "</div>"
      ],
      "text/plain": [
       "         group_1    char_2   char_38\n",
       "0            0.0  0.000000  0.000000\n",
       "1            0.0  0.000000  0.000000\n",
       "2            0.0  0.000000  0.000000\n",
       "3            0.0  0.000000  0.000000\n",
       "4            0.0  0.000000  0.000000\n",
       "5            0.0  0.000000  0.000000\n",
       "6            1.0  0.698855  0.727121\n",
       "7            1.0  0.698855  0.727121\n",
       "8            1.0  0.698855  0.731619\n",
       "9            1.0  0.698855  0.731619\n",
       "10           1.0  0.698855  0.731619\n",
       "11           1.0  0.698855  0.731619\n",
       "12           1.0  0.698855  0.731619\n",
       "13           1.0  0.698855  0.731619\n",
       "14           1.0  0.698855  0.731619\n",
       "15           1.0  0.698855  0.731619\n",
       "16           1.0  0.698855  0.731619\n",
       "17           1.0  0.698855  0.731619\n",
       "18           1.0  0.698855  0.731619\n",
       "19           1.0  0.698855  0.731619\n",
       "20           1.0  0.698855  0.731619\n",
       "21           1.0  0.698855  0.731619\n",
       "22           1.0  0.698855  0.731619\n",
       "23           1.0  0.698855  0.731619\n",
       "24           1.0  0.698855  0.731619\n",
       "25           1.0  0.698855  0.731619\n",
       "26           1.0  0.698855  0.731619\n",
       "27           1.0  0.698855  0.731619\n",
       "28           1.0  0.698855  0.731619\n",
       "29           1.0  0.698855  0.731619\n",
       "...          ...       ...       ...\n",
       "2197261      1.0  0.698855  0.819942\n",
       "2197262      1.0  0.698855  0.819942\n",
       "2197263      1.0  0.698855  0.819942\n",
       "2197264      1.0  0.698855  0.819942\n",
       "2197265      1.0  0.698855  0.819942\n",
       "2197266      1.0  0.698855  0.819942\n",
       "2197267      1.0  0.698855  0.819942\n",
       "2197268      1.0  0.698855  0.819942\n",
       "2197269      1.0  0.698855  0.819942\n",
       "2197270      1.0  0.698855  0.819942\n",
       "2197271      1.0  0.698855  0.819942\n",
       "2197272      1.0  0.698855  0.819942\n",
       "2197273      1.0  0.698855  0.819942\n",
       "2197274      1.0  0.698855  0.819942\n",
       "2197275      1.0  0.698855  0.819942\n",
       "2197276      1.0  0.698855  0.819942\n",
       "2197277      1.0  0.698855  0.819942\n",
       "2197278      1.0  0.698855  0.819942\n",
       "2197279      1.0  0.698855  0.819942\n",
       "2197280      1.0  0.698855  0.819942\n",
       "2197281      1.0  0.698855  0.819942\n",
       "2197282      1.0  0.698855  0.819942\n",
       "2197283      1.0  0.698855  0.819942\n",
       "2197284      1.0  0.698855  0.819942\n",
       "2197285      1.0  0.698855  0.819942\n",
       "2197286      1.0  0.698855  0.819942\n",
       "2197287      1.0  0.698855  0.819942\n",
       "2197288      1.0  0.698855  0.819942\n",
       "2197289      1.0  0.698855  0.819942\n",
       "2197290      1.0  0.698855  0.819942\n",
       "\n",
       "[2197291 rows x 3 columns]"
      ]
     },
     "execution_count": 87,
     "metadata": {},
     "output_type": "execute_result"
    }
   ],
   "source": [
    "train_3feature = pd.DataFrame()\n",
    "for col in train.columns:\n",
    "    if (col !='outcome' and col !='people_id'):\n",
    "        train_3feature[col] = LeaveOneOut(train,train,col,True).values\n",
    "train_3feature"
   ]
  },
  {
   "cell_type": "code",
   "execution_count": 89,
   "metadata": {
    "collapsed": false
   },
   "outputs": [
    {
     "data": {
      "text/html": [
       "<div>\n",
       "<table border=\"1\" class=\"dataframe\">\n",
       "  <thead>\n",
       "    <tr style=\"text-align: right;\">\n",
       "      <th></th>\n",
       "      <th>group_1</th>\n",
       "      <th>char_2</th>\n",
       "      <th>char_38</th>\n",
       "    </tr>\n",
       "  </thead>\n",
       "  <tbody>\n",
       "    <tr>\n",
       "      <th>0</th>\n",
       "      <td>0.0</td>\n",
       "      <td>0.698855</td>\n",
       "      <td>0.727121</td>\n",
       "    </tr>\n",
       "    <tr>\n",
       "      <th>1</th>\n",
       "      <td>0.0</td>\n",
       "      <td>0.698855</td>\n",
       "      <td>0.727121</td>\n",
       "    </tr>\n",
       "    <tr>\n",
       "      <th>2</th>\n",
       "      <td>1.0</td>\n",
       "      <td>0.698855</td>\n",
       "      <td>0.796851</td>\n",
       "    </tr>\n",
       "    <tr>\n",
       "      <th>3</th>\n",
       "      <td>1.0</td>\n",
       "      <td>0.698855</td>\n",
       "      <td>0.796851</td>\n",
       "    </tr>\n",
       "    <tr>\n",
       "      <th>4</th>\n",
       "      <td>1.0</td>\n",
       "      <td>0.698855</td>\n",
       "      <td>0.796851</td>\n",
       "    </tr>\n",
       "  </tbody>\n",
       "</table>\n",
       "</div>"
      ],
      "text/plain": [
       "   group_1    char_2   char_38\n",
       "0      0.0  0.698855  0.727121\n",
       "1      0.0  0.698855  0.727121\n",
       "2      1.0  0.698855  0.796851\n",
       "3      1.0  0.698855  0.796851\n",
       "4      1.0  0.698855  0.796851"
      ]
     },
     "execution_count": 89,
     "metadata": {},
     "output_type": "execute_result"
    }
   ],
   "source": [
    "test_3feature = pd.DataFrame()\n",
    "for col in train.columns:\n",
    "    if (col !='outcome' and col !='people_id'):\n",
    "        test_3feature[col] = LeaveOneOut(train,test_lr,col,False).values\n",
    "test_3feature.head()"
   ]
  },
  {
   "cell_type": "code",
   "execution_count": 91,
   "metadata": {
    "collapsed": false
   },
   "outputs": [],
   "source": [
    "import xgboost as xgb\n",
    "from xgboost.sklearn import XGBClassifier\n",
    "from sklearn.metrics import accuracy_score,roc_auc_score"
   ]
  },
  {
   "cell_type": "code",
   "execution_count": 95,
   "metadata": {
    "collapsed": true
   },
   "outputs": [],
   "source": [
    "from sklearn.cross_validation import train_test_split\n",
    "X_train,X_test,y_train,y_test = train_test_split(train_3feature,train['outcome'],test_size = 0.2,random_state = 1)"
   ]
  },
  {
   "cell_type": "code",
   "execution_count": 96,
   "metadata": {
    "collapsed": false
   },
   "outputs": [
    {
     "data": {
      "text/plain": [
       "1.0"
      ]
     },
     "execution_count": 96,
     "metadata": {},
     "output_type": "execute_result"
    }
   ],
   "source": [
    "xgb1 = XGBClassifier()\n",
    "xgb1 = xgb1.fit(X_train,y_train,eval_metric = 'auc')\n",
    "xgb1_proba = xgb1.predict_proba(X_test)\n",
    "roc_auc_score(y_test,xgb1_proba[:,1])"
   ]
  },
  {
   "cell_type": "code",
   "execution_count": null,
   "metadata": {
    "collapsed": false
   },
   "outputs": [],
   "source": []
  },
  {
   "cell_type": "code",
   "execution_count": 97,
   "metadata": {
    "collapsed": true
   },
   "outputs": [],
   "source": [
    "xgb1_test = xgb1.predict_proba(test_3feature)\n",
    "xgb1_sub = pd.DataFrame({'activity_id':activity_id,'outcome':xgb1_test[:,1]})\n",
    "#xgb1_sub.to_csv('3feature_xgb1_sub.csv',index = False)"
   ]
  },
  {
   "cell_type": "code",
   "execution_count": 94,
   "metadata": {
    "collapsed": false
   },
   "outputs": [
    {
     "data": {
      "text/html": [
       "<div>\n",
       "<table border=\"1\" class=\"dataframe\">\n",
       "  <thead>\n",
       "    <tr style=\"text-align: right;\">\n",
       "      <th></th>\n",
       "      <th>activity_id</th>\n",
       "      <th>outcome</th>\n",
       "    </tr>\n",
       "  </thead>\n",
       "  <tbody>\n",
       "    <tr>\n",
       "      <th>0</th>\n",
       "      <td>act1_249281</td>\n",
       "      <td>0.067697</td>\n",
       "    </tr>\n",
       "    <tr>\n",
       "      <th>1</th>\n",
       "      <td>act2_230855</td>\n",
       "      <td>0.067697</td>\n",
       "    </tr>\n",
       "    <tr>\n",
       "      <th>2</th>\n",
       "      <td>act1_240724</td>\n",
       "      <td>0.999911</td>\n",
       "    </tr>\n",
       "    <tr>\n",
       "      <th>3</th>\n",
       "      <td>act1_83552</td>\n",
       "      <td>0.999911</td>\n",
       "    </tr>\n",
       "    <tr>\n",
       "      <th>4</th>\n",
       "      <td>act2_1043301</td>\n",
       "      <td>0.999911</td>\n",
       "    </tr>\n",
       "  </tbody>\n",
       "</table>\n",
       "</div>"
      ],
      "text/plain": [
       "    activity_id   outcome\n",
       "0   act1_249281  0.067697\n",
       "1   act2_230855  0.067697\n",
       "2   act1_240724  0.999911\n",
       "3    act1_83552  0.999911\n",
       "4  act2_1043301  0.999911"
      ]
     },
     "execution_count": 94,
     "metadata": {},
     "output_type": "execute_result"
    }
   ],
   "source": []
  },
  {
   "cell_type": "code",
   "execution_count": 103,
   "metadata": {
    "collapsed": false
   },
   "outputs": [],
   "source": [
    "xgb1_sub.head()\n",
    "xgb1_sub.to_csv('3feature_xgb1_sub.csv',index = False)"
   ]
  },
  {
   "cell_type": "code",
   "execution_count": 101,
   "metadata": {
    "collapsed": false
   },
   "outputs": [],
   "source": [
    "def score(x):\n",
    "    if x >0.99:\n",
    "        a = 1\n",
    "    elif x <0.05:\n",
    "        a = 0\n",
    "    else:\n",
    "        a = x\n",
    "    return a\n",
    "xgb1_sub['outcome'] = xgb1_sub['outcome'].apply(lambda x: score(x))"
   ]
  },
  {
   "cell_type": "code",
   "execution_count": 106,
   "metadata": {
    "collapsed": false
   },
   "outputs": [
    {
     "data": {
      "text/plain": [
       "([mean: 1.00000, std: 0.00000, params: {'min_child_weight': 1, 'max_depth': 3},\n",
       "  mean: 1.00000, std: 0.00000, params: {'min_child_weight': 3, 'max_depth': 3},\n",
       "  mean: 1.00000, std: 0.00000, params: {'min_child_weight': 5, 'max_depth': 3},\n",
       "  mean: 1.00000, std: 0.00000, params: {'min_child_weight': 1, 'max_depth': 5},\n",
       "  mean: 1.00000, std: 0.00000, params: {'min_child_weight': 3, 'max_depth': 5},\n",
       "  mean: 1.00000, std: 0.00000, params: {'min_child_weight': 5, 'max_depth': 5},\n",
       "  mean: 1.00000, std: 0.00000, params: {'min_child_weight': 1, 'max_depth': 7},\n",
       "  mean: 1.00000, std: 0.00000, params: {'min_child_weight': 3, 'max_depth': 7},\n",
       "  mean: 1.00000, std: 0.00000, params: {'min_child_weight': 5, 'max_depth': 7},\n",
       "  mean: 1.00000, std: 0.00000, params: {'min_child_weight': 1, 'max_depth': 9},\n",
       "  mean: 1.00000, std: 0.00000, params: {'min_child_weight': 3, 'max_depth': 9},\n",
       "  mean: 1.00000, std: 0.00000, params: {'min_child_weight': 5, 'max_depth': 9}],\n",
       " {'max_depth': 3, 'min_child_weight': 1},\n",
       " 1.0)"
      ]
     },
     "execution_count": 106,
     "metadata": {},
     "output_type": "execute_result"
    }
   ],
   "source": [
    "from sklearn.grid_search import GridSearchCV\n",
    "param_test1 = {\n",
    " 'max_depth':list(range(3,10,2)),\n",
    " 'min_child_weight':list(range(1,6,2))\n",
    "}\n",
    "gsearch1 = GridSearchCV(estimator = XGBClassifier( learning_rate =0.1, n_estimators=140, max_depth=5,\n",
    " min_child_weight=1, gamma=0, subsample=0.8, colsample_bytree=0.8,\n",
    " objective= 'binary:logistic', nthread=4, scale_pos_weight=1, seed=27), \n",
    " param_grid = param_test1, scoring='roc_auc',n_jobs=4,iid=False, cv=5)\n",
    "gsearch1.fit(X_train,y_train)\n",
    "gsearch1.grid_scores_, gsearch1.best_params_, gsearch1.best_score_"
   ]
  },
  {
   "cell_type": "code",
   "execution_count": 107,
   "metadata": {
    "collapsed": true
   },
   "outputs": [],
   "source": [
    "xgb2 = XGBClassifier( learning_rate =0.01, n_estimators=5000, max_depth=3,\n",
    " min_child_weight=10, gamma=0, subsample=0.7, colsample_bytree=0.7,\n",
    " objective= 'binary:logistic', nthread=4, scale_pos_weight=1, seed=27)\n",
    "xgb2 = xgb2.fit(train_3feature,train['outcome'],eval_metric = 'auc')"
   ]
  },
  {
   "cell_type": "code",
   "execution_count": 108,
   "metadata": {
    "collapsed": true
   },
   "outputs": [],
   "source": [
    "xgb2_test = xgb2.predict_proba(test_3feature)\n",
    "xgb2_sub = pd.DataFrame({'activity_id':activity_id,'outcome':xgb2_test[:,1]})\n",
    "xgb2_sub.to_csv('3feature_xgb2_sub.csv',index = False)"
   ]
  },
  {
   "cell_type": "code",
   "execution_count": null,
   "metadata": {
    "collapsed": true
   },
   "outputs": [],
   "source": []
  }
 ],
 "metadata": {
  "kernelspec": {
   "display_name": "Python [Root]",
   "language": "python",
   "name": "Python [Root]"
  },
  "language_info": {
   "codemirror_mode": {
    "name": "ipython",
    "version": 3
   },
   "file_extension": ".py",
   "mimetype": "text/x-python",
   "name": "python",
   "nbconvert_exporter": "python",
   "pygments_lexer": "ipython3",
   "version": "3.5.2"
  }
 },
 "nbformat": 4,
 "nbformat_minor": 0
}
